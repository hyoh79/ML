{
  "cells": [
    {
      "cell_type": "markdown",
      "metadata": {
        "id": "view-in-github",
        "colab_type": "text"
      },
      "source": [
        "<a href=\"https://colab.research.google.com/github/hyoh79/ML/blob/main/DL_Iris.ipynb\" target=\"_parent\"><img src=\"https://colab.research.google.com/assets/colab-badge.svg\" alt=\"Open In Colab\"/></a>"
      ]
    },
    {
      "cell_type": "markdown",
      "id": "1eaa7608-4a38-46dc-bdb9-01e8cc26dc04",
      "metadata": {
        "id": "1eaa7608-4a38-46dc-bdb9-01e8cc26dc04"
      },
      "source": [
        "# 원본 소스코드"
      ]
    },
    {
      "cell_type": "code",
      "execution_count": null,
      "id": "fdc3e468",
      "metadata": {
        "id": "fdc3e468",
        "outputId": "abf1577d-57cf-4cb2-d0ee-15bd9f9e28bc"
      },
      "outputs": [
        {
          "name": "stdout",
          "output_type": "stream",
          "text": [
            "a=-1.128305; b=0.993140; c=-0.184300; d=-0.931963; e=1.346724; f=1.075707; g=-2.238446; h=2.237176; i=-1.015000\n"
          ]
        }
      ],
      "source": [
        "import math\n",
        "import random\n",
        "\n",
        "a = random.uniform(-1,1)\n",
        "b = random.uniform(-1,1)\n",
        "c = random.uniform(-1,1)\n",
        "d = random.uniform(-1,1)\n",
        "e = random.uniform(-1,1)\n",
        "f = random.uniform(-1,1)\n",
        "g = random.uniform(-1,1)\n",
        "h = random.uniform(-1,1)\n",
        "i = random.uniform(-1,1)\n",
        "\n",
        "eta = 0.00001\n",
        "\n",
        "def sigmoid(x):\n",
        "    return 1.0/(1.0+math.exp(-x))\n",
        "\n",
        "data=[(5,10),(7,18),(10,8),(15,15),(20,3),(23,12)]\n",
        "labels=[-1,-1,+1,+1,-1,-1]\n",
        "\n",
        "for counter in range(1000000):\n",
        "    da=db=dc=dd=de=df=dg=dh=di=0.0\n",
        "    for idx in range(len(data)):\n",
        "        x=float(data[idx][0])\n",
        "        y=float(data[idx][1])\n",
        "        \n",
        "        z1=a*x+b*y+c\n",
        "        X=sigmoid(z1)\n",
        "        \n",
        "        z2=d*x+e*y+f\n",
        "        Y=sigmoid(z2)\n",
        "        \n",
        "        z=g*X+h*Y+i\n",
        "        Z=labels[idx]\n",
        "        \n",
        "        dz=2*(z-Z)\n",
        "        dz1=dz*g*sigmoid(z1)*(1.0-sigmoid(z1))\n",
        "        dz2=dz*h*sigmoid(z2)*(1.0-sigmoid(z2))\n",
        "        da+=dz1*x\n",
        "        db+=dz1*y\n",
        "        dc+=dz1\n",
        "        dd+=dz2*x\n",
        "        de+=dz2*y\n",
        "        df+=dz2\n",
        "        dg+=dz*X\n",
        "        dh+=dz*Y\n",
        "        di+=dz\n",
        "    a=a-eta*da\n",
        "    b=b-eta*db\n",
        "    c=c-eta*dc\n",
        "    d=d-eta*dd\n",
        "    e=e-eta*de\n",
        "    f=f-eta*df\n",
        "    g=g-eta*dg\n",
        "    h=h-eta*dh\n",
        "    i=i-eta*di\n",
        "print(\"a=%lf; b=%lf; c=%lf; d=%lf; e=%lf; f=%lf; g=%lf; h=%lf; i=%lf\" % (a,b,c,d,e,f,g,h,i)) "
      ]
    },
    {
      "cell_type": "code",
      "execution_count": null,
      "id": "d2cf31a9",
      "metadata": {
        "id": "d2cf31a9"
      },
      "outputs": [],
      "source": [
        "def print_z(x, y):\n",
        "    z=g*sigmoid(a*x+b*y+c)+h*sigmoid(d*x+e*y+f)+i\n",
        "    return print(z)"
      ]
    },
    {
      "cell_type": "code",
      "execution_count": null,
      "id": "6d8c3dab",
      "metadata": {
        "id": "6d8c3dab",
        "outputId": "4e89a68f-8b9b-4102-9cb6-c5b733a88d77"
      },
      "outputs": [
        {
          "name": "stdout",
          "output_type": "stream",
          "text": [
            "-0.9800922576288222\n",
            "-1.0161461105384415\n",
            "0.992881209119596\n",
            "0.9997320030026575\n",
            "-1.014997179589779\n",
            "-0.9819086009604835\n"
          ]
        }
      ],
      "source": [
        "print_z(5,10)\n",
        "print_z(7,18)\n",
        "print_z(10,8)\n",
        "print_z(15,15)\n",
        "print_z(20,3)\n",
        "print_z(23,12)"
      ]
    },
    {
      "cell_type": "code",
      "execution_count": null,
      "id": "588280df",
      "metadata": {
        "id": "588280df"
      },
      "outputs": [],
      "source": [
        ""
      ]
    },
    {
      "cell_type": "code",
      "execution_count": null,
      "id": "7b53eeba",
      "metadata": {
        "id": "7b53eeba"
      },
      "outputs": [],
      "source": [
        ""
      ]
    },
    {
      "cell_type": "code",
      "execution_count": null,
      "id": "0f4eafb7",
      "metadata": {
        "id": "0f4eafb7"
      },
      "outputs": [],
      "source": [
        ""
      ]
    },
    {
      "cell_type": "code",
      "execution_count": null,
      "id": "4746b0db",
      "metadata": {
        "id": "4746b0db"
      },
      "outputs": [],
      "source": [
        ""
      ]
    },
    {
      "cell_type": "markdown",
      "id": "7da65596-ef05-450e-a0d7-76d97396e1cd",
      "metadata": {
        "id": "7da65596-ef05-450e-a0d7-76d97396e1cd"
      },
      "source": [
        "# 기본문제 - Layer 추가"
      ]
    },
    {
      "cell_type": "code",
      "execution_count": null,
      "id": "403f0528",
      "metadata": {
        "id": "403f0528"
      },
      "outputs": [],
      "source": [
        "import math\n",
        "import random\n",
        "\n",
        "a = random.uniform(-1,1)\n",
        "b = random.uniform(-1,1)\n",
        "c = random.uniform(-1,1)\n",
        "d = random.uniform(-1,1)\n",
        "e = random.uniform(-1,1)\n",
        "f = random.uniform(-1,1)\n",
        "g = random.uniform(-1,1)\n",
        "h = random.uniform(-1,1)\n",
        "i = random.uniform(-1,1)\n",
        "j = random.uniform(-1,1)\n",
        "k = random.uniform(-1,1)\n",
        "l = random.uniform(-1,1)\n",
        "m = random.uniform(-1,1)\n",
        "n = random.uniform(-1,1)\n",
        "o = random.uniform(-1,1)\n",
        "\n",
        "eta = 0.00001\n",
        "data=[(5,10),(7,18),(10,8),(15,15),(20,3),(23,12)]\n",
        "labels=[-1,-1,+1,+1,-1,-1]\n",
        "\n",
        "def sigmoid(x):\n",
        "    return 1.0/(1.0+math.exp(-x))\n",
        "\n",
        "def node_output(x, y, a, b, c):\n",
        "    return a*x+b*y+c\n",
        "\n",
        "def back_sigmoid(fore_gredient, para, this_value):\n",
        "    return fore_gredient*para*sigmoid(this_value)*(1.0 - sigmoid(this_value))"
      ]
    },
    {
      "cell_type": "code",
      "execution_count": null,
      "id": "a0f22dde-575e-4923-9dde-f16f90dc9b14",
      "metadata": {
        "id": "a0f22dde-575e-4923-9dde-f16f90dc9b14",
        "outputId": "bbd27952-c457-4762-d967-6f6ec52f6736"
      },
      "outputs": [
        {
          "name": "stdout",
          "output_type": "stream",
          "text": [
            "-1.1911012982266782 0.9432744717039974 0.11896138935023101 1.0756886739593903 -1.6567691848827804 -0.976840131473368 0.8197068159494485 0.8369933035022609 -0.33034586610971567 2.4918472012904673 2.4733423587074537 -1.2352640365394416 -0.8672330025098675 -3.422326623184808 2.1824461349439295\n"
          ]
        }
      ],
      "source": [
        "for counter in range(1000000):\n",
        "    da=db=dc=dd=de=df=dg=dh=di=dj=dk=dl=dm=dn=do=0.0\n",
        "    \n",
        "    for idx in range(len(data)):\n",
        "        x=float(data[idx][0])\n",
        "        y=float(data[idx][1])\n",
        "        \n",
        "        z1 = node_output(x, y, a, b, c)\n",
        "        z2 = node_output(x, y, d, e, f)\n",
        "        X1 = sigmoid(z1)\n",
        "        Y1 = sigmoid(z2)\n",
        "        z3 = node_output(X1, Y1, g, h, i)\n",
        "        z4 = node_output(X1, Y1, j, k, l)\n",
        "        X2 = sigmoid(z3)\n",
        "        Y2 = sigmoid(z4)\n",
        "        z = node_output(X2, Y2, m, n, o)\n",
        "        \n",
        "        Z = labels[idx]\n",
        "        dz = 2*(z-Z)\n",
        "\n",
        "        dz3 = back_sigmoid(dz, m, z3)\n",
        "        dz4 = back_sigmoid(dz, n, z4)\n",
        "        dm += dz*X2\n",
        "        dn += dz*Y2\n",
        "        do += dz\n",
        "        \n",
        "        dg += dz3*X1\n",
        "        dh += dz3*Y1\n",
        "        di += dz3\n",
        "        \n",
        "        dj += dz4*X1\n",
        "        dk += dz4*Y1\n",
        "        dl += dz4\n",
        "        \n",
        "        dz1 = back_sigmoid(dz3, g, z1)\n",
        "        dz1 += back_sigmoid(dz4, j, z1)\n",
        "        \n",
        "        dz2 = back_sigmoid(dz3, h, z2)\n",
        "        dz2 += back_sigmoid(dz4, k, z2)\n",
        "        \n",
        "        da += dz1*x\n",
        "        db += dz1*y\n",
        "        dc += dz1\n",
        "        \n",
        "        dd += dz2*x\n",
        "        de += dz2*y\n",
        "        df += dz2\n",
        "    \n",
        "    a -= eta*da\n",
        "    b -= eta*db\n",
        "    c -= eta*dc\n",
        "    d -= eta*dd\n",
        "    e -= eta*de\n",
        "    f -= eta*df\n",
        "    g -= eta*dg\n",
        "    h -= eta*dh\n",
        "    i -= eta*di\n",
        "    j -= eta*dj\n",
        "    k -= eta*dk\n",
        "    l -= eta*dl\n",
        "    m -= eta*dm\n",
        "    n -= eta*dn\n",
        "    o -= eta*do\n",
        "        \n",
        "print(a,b,c,d,e,f,g,h,i,j,k,l,m,n,o) "
      ]
    },
    {
      "cell_type": "code",
      "execution_count": null,
      "id": "7cfa39c4-3c77-4173-bf85-3cfd07896ea1",
      "metadata": {
        "id": "7cfa39c4-3c77-4173-bf85-3cfd07896ea1",
        "outputId": "ee21e854-c395-420c-a05e-de820ad46e10"
      },
      "outputs": [
        {
          "name": "stdout",
          "output_type": "stream",
          "text": [
            "-0.9748022511107881\n",
            "-1.019009992936358\n",
            "0.9737364751676725\n",
            "1.003803072361597\n",
            "-1.0118125300588052\n",
            "-0.9781996607004975\n"
          ]
        }
      ],
      "source": [
        "def print_z(x, y):\n",
        "    A = sigmoid(node_output(x, y, a, b, c))\n",
        "    B = sigmoid(node_output(x, y, d, e, f))\n",
        "    C = sigmoid(node_output(A, B, g, h, i))\n",
        "    D = sigmoid(node_output(A, B, j, k, l))\n",
        "    z = node_output(C, D, m, n, o)\n",
        "    return print(z)\n",
        "print_z(5,10)\n",
        "print_z(7,18)\n",
        "print_z(10,8)\n",
        "print_z(15,15)\n",
        "print_z(20,3)\n",
        "print_z(23,12)"
      ]
    },
    {
      "cell_type": "code",
      "execution_count": null,
      "id": "3bae5ded-9fd3-47a6-bb5b-ad1171fd11fa",
      "metadata": {
        "id": "3bae5ded-9fd3-47a6-bb5b-ad1171fd11fa"
      },
      "outputs": [],
      "source": [
        ""
      ]
    },
    {
      "cell_type": "code",
      "execution_count": null,
      "id": "f1131b9f-330e-4650-8ec0-cb7c2af24291",
      "metadata": {
        "id": "f1131b9f-330e-4650-8ec0-cb7c2af24291"
      },
      "outputs": [],
      "source": [
        ""
      ]
    },
    {
      "cell_type": "code",
      "execution_count": null,
      "id": "1de99439-4632-44e9-881b-3824234bcabb",
      "metadata": {
        "id": "1de99439-4632-44e9-881b-3824234bcabb"
      },
      "outputs": [],
      "source": [
        ""
      ]
    },
    {
      "cell_type": "code",
      "execution_count": null,
      "id": "6a1031ad-3ddb-4e99-9252-2791e50bb5e0",
      "metadata": {
        "id": "6a1031ad-3ddb-4e99-9252-2791e50bb5e0"
      },
      "outputs": [],
      "source": [
        ""
      ]
    },
    {
      "cell_type": "markdown",
      "id": "cd32d588-417c-4a93-867a-80ae2e25008f",
      "metadata": {
        "id": "cd32d588-417c-4a93-867a-80ae2e25008f"
      },
      "source": [
        "# 응용문제 - Iris 데이터세트 활용, 분류 문제 적용"
      ]
    },
    {
      "cell_type": "code",
      "execution_count": null,
      "id": "f16a99bf-d751-4739-9d75-87ce916f3b8c",
      "metadata": {
        "id": "f16a99bf-d751-4739-9d75-87ce916f3b8c"
      },
      "outputs": [],
      "source": [
        "import math\n",
        "import random\n",
        "\n",
        "a_ = random.uniform(-1,1)\n",
        "b_ = random.uniform(-1,1)\n",
        "c_ = random.uniform(-1,1)\n",
        "d_ = random.uniform(-1,1)\n",
        "e_ = random.uniform(-1,1)\n",
        "f_ = random.uniform(-1,1)\n",
        "g_ = random.uniform(-1,1)\n",
        "h_ = random.uniform(-1,1)\n",
        "i_ = random.uniform(-1,1)\n",
        "j_ = random.uniform(-1,1)\n",
        "\n",
        "g = random.uniform(-1,1)\n",
        "h = random.uniform(-1,1)\n",
        "i = random.uniform(-1,1)\n",
        "j = random.uniform(-1,1)\n",
        "k = random.uniform(-1,1)\n",
        "l = random.uniform(-1,1)\n",
        "m = random.uniform(-1,1)\n",
        "n = random.uniform(-1,1)\n",
        "o = random.uniform(-1,1)\n",
        "\n",
        "eta = 0.000005\n",
        "\n",
        "def sigmoid(x):\n",
        "    return 1.0/(1.0+math.exp(-x))\n",
        "\n",
        "def node_output(x, y, a, b, c):\n",
        "    return a*x+b*y+c\n",
        "\n",
        "def node_output2(x1, x2, x3, x4, a, b, c, d, e):\n",
        "    return a*x1+b*x2+c*x3+d*x4+e\n",
        "\n",
        "def back_sigmoid(fore_gredient, para, this_value):\n",
        "    return fore_gredient*para*sigmoid(this_value)*(1.0 - sigmoid(this_value))"
      ]
    },
    {
      "cell_type": "code",
      "execution_count": null,
      "id": "e23208bc-090f-40f3-87c9-33a5b6744b4c",
      "metadata": {
        "id": "e23208bc-090f-40f3-87c9-33a5b6744b4c",
        "outputId": "9c58b643-fc74-4c4e-b226-b4e2322afafc"
      },
      "outputs": [
        {
          "name": "stdout",
          "output_type": "stream",
          "text": [
            "total data len: 100 , train len: 80 , test len: 20\n"
          ]
        }
      ],
      "source": [
        "from sklearn.datasets import load_iris\n",
        "import numpy as np\n",
        "iris = load_iris()\n",
        "data = iris.data\n",
        "labels = iris.target\n",
        "\n",
        "labels = np.expand_dims(labels, axis=1)\n",
        "iris = np.concatenate((data, labels), axis=1)\n",
        "\n",
        "iris = iris[(iris[:,4]==0.0) | (iris[:,4]==1.0)] # 2진 분류를 위해 0, 1 데이터만  사용\n",
        "\n",
        "np.random.shuffle(iris)\n",
        "data = iris[:,:4]\n",
        "labels = iris[:,4:].reshape((-1,))\n",
        "\n",
        "test_data = data[-20:]\n",
        "test_labels = labels[-20:]\n",
        "data = data[:-20]\n",
        "labels = labels[:-20]\n",
        "print('total data len:',len(iris.data), ', train len:', len(data), ', test len:',len(test_data))"
      ]
    },
    {
      "cell_type": "code",
      "execution_count": null,
      "id": "ceb46ebf-682a-48ac-8742-1bf897fb93ee",
      "metadata": {
        "id": "ceb46ebf-682a-48ac-8742-1bf897fb93ee",
        "outputId": "3a902cc2-0776-41c8-b214-646c8d674fdd"
      },
      "outputs": [
        {
          "name": "stdout",
          "output_type": "stream",
          "text": [
            "0 100000 200000 300000 400000 500000 600000 700000 800000 900000 1000000 1100000 1200000 1300000 1400000 1500000 1600000 1700000 1800000 1900000 2000000 2100000 2200000 2300000 2400000 2500000 2600000 2700000 2800000 2900000 3000000 3100000 3200000 3300000 3400000 3500000 3600000 3700000 3800000 3900000 4000000 4100000 4200000 4300000 4400000 4500000 4600000 4700000 4800000 4900000 5000000 5100000 5200000 5300000 5400000 5500000 5600000 5700000 5800000 5900000 6000000 6100000 6200000 6300000 6400000 6500000 6600000 6700000 6800000 6900000 7000000 7100000 7200000 7300000 7400000 7500000 7600000 7700000 7800000 7900000 8000000 8100000 8200000 8300000 8400000 8500000 8600000 8700000 8800000 8900000 9000000 9100000 9200000 9300000 9400000 9500000 9600000 9700000 9800000 9900000 \n",
            " -0.6312517207867523 -0.36114062678145303 -0.24972665903923158 0.02171132280177592 -0.36439435628863437 -0.7655948303916159 -1.4071187401556067 2.63386682152522 1.6259050277204254 0.05294012467094739 -0.4304840085762954 2.3294579492405574 -0.8453224973668318 -0.567195129034297 0.3913468737626596 -0.810878141230363 1.951012338798836 0.2011685882573837 -0.662773344333786\n"
          ]
        }
      ],
      "source": [
        "for counter in range(10000000):\n",
        "    da_=db_=dc_=dd_=de_=df_=dg_=dh_=di_=dj_=0.0\n",
        "    dg=dh=di=dj=dk=dl=dm=dn=do=0.0\n",
        "    if(counter % 100000 == 0):print(counter, end=' ', flush=True)\n",
        "        \n",
        "    for idx in range(len(data)):\n",
        "        x1=float(data[idx][0])\n",
        "        x2=float(data[idx][1])\n",
        "        x3=float(data[idx][2])\n",
        "        x4=float(data[idx][3])\n",
        "        \n",
        "        z1 = node_output2(x1, x2, x3, x4, a_, b_, c_, d_, e_)\n",
        "        z2 = node_output2(x1, x2, x3, x4, f_, g_, h_, i_, j_)\n",
        "        X1 = sigmoid(z1)\n",
        "        Y1 = sigmoid(z2)\n",
        "        z3 = node_output(X1, Y1, g, h, i)\n",
        "        z4 = node_output(X1, Y1, j, k, l)\n",
        "        X2 = sigmoid(z3)\n",
        "        Y2 = sigmoid(z4)\n",
        "        z = node_output(X2, Y2, m, n, o)\n",
        "        \n",
        "        Z = labels[idx]\n",
        "        dz = 2*(z-Z)\n",
        "\n",
        "        dz3 = back_sigmoid(dz, m, z3)\n",
        "        dz4 = back_sigmoid(dz, n, z4)\n",
        "        dm += dz*X2\n",
        "        dn += dz*Y2\n",
        "        do += dz\n",
        "        \n",
        "        dg += dz3*X1\n",
        "        dh += dz3*Y1\n",
        "        di += dz3\n",
        "        \n",
        "        dj += dz4*X1\n",
        "        dk += dz4*Y1\n",
        "        dl += dz4\n",
        "        \n",
        "        dz1 = back_sigmoid(dz3, g, z1)\n",
        "        dz1 += back_sigmoid(dz4, j, z1)\n",
        "        \n",
        "        dz2 = back_sigmoid(dz3, h, z2)\n",
        "        dz2 += back_sigmoid(dz4, k, z2)\n",
        "        \n",
        "        da_ += dz1*x1\n",
        "        db_ += dz1*x2\n",
        "        dc_ += dz1*x3\n",
        "        dd_ += dz1*x4\n",
        "        de_ += dz1\n",
        "        df_ += dz2*x1\n",
        "        dg_ += dz2*x2\n",
        "        dh_ += dz2*x3\n",
        "        di_ += dz2*x4\n",
        "        dj_ += dz2\n",
        "    \n",
        "    a_ -= eta*da_\n",
        "    b_ -= eta*db_\n",
        "    c_ -= eta*dc_\n",
        "    d_ -= eta*dd_\n",
        "    e_ -= eta*de_\n",
        "    f_ -= eta*df_\n",
        "    g_ -= eta*dg_\n",
        "    h_ -= eta*dh_\n",
        "    i_ -= eta*di_\n",
        "    j_ -= eta*dj_\n",
        "    \n",
        "    g -= eta*dg\n",
        "    h -= eta*dh\n",
        "    i -= eta*di\n",
        "    j -= eta*dj\n",
        "    k -= eta*dk\n",
        "    l -= eta*dl\n",
        "    m -= eta*dm\n",
        "    n -= eta*dn\n",
        "    o -= eta*do\n",
        "print('\\n',a_,b_,c_,d_,e_,f_,g_,h_,i_,j_,g,h,i,j,k,l,m,n,o) "
      ]
    },
    {
      "cell_type": "code",
      "execution_count": null,
      "id": "b1a3685d-3d6a-4e35-8e59-79329db8a259",
      "metadata": {
        "id": "b1a3685d-3d6a-4e35-8e59-79329db8a259",
        "outputId": "ac78d2c1-cea7-44a0-c649-58bc495eb3ba"
      },
      "outputs": [
        {
          "name": "stdout",
          "output_type": "stream",
          "text": [
            "Pred: 0.0 , Real: 0.0\n",
            "Pred: 1.0 , Real: 1.0\n",
            "Pred: 1.0 , Real: 1.0\n",
            "Pred: 1.0 , Real: 1.0\n",
            "Pred: 1.0 , Real: 0.0\n",
            "Pred: 1.0 , Real: 1.0\n",
            "Pred: 1.0 , Real: 0.0\n",
            "Pred: 1.0 , Real: 0.0\n",
            "Pred: 1.0 , Real: 0.0\n",
            "Pred: 1.0 , Real: 0.0\n",
            "Pred: 1.0 , Real: 1.0\n",
            "Pred: 1.0 , Real: 1.0\n",
            "Pred: 1.0 , Real: 0.0\n",
            "Pred: 1.0 , Real: 1.0\n",
            "Pred: 1.0 , Real: 1.0\n",
            "Pred: 1.0 , Real: 1.0\n",
            "Pred: 1.0 , Real: 0.0\n",
            "Pred: 1.0 , Real: 0.0\n",
            "Pred: 1.0 , Real: 1.0\n",
            "Pred: 1.0 , Real: 1.0\n"
          ]
        }
      ],
      "source": [
        "def print_z(x1, x2, x3, x4, y):\n",
        "    z1 = node_output2(x1, x2, x3, x4, a_, b_, c_, d_, e_)\n",
        "    z2 = node_output2(x1, x2, x3, x4, f_, g_, h_, i_, j_)\n",
        "    X1 = sigmoid(z1)\n",
        "    Y1 = sigmoid(z2)\n",
        "    z3 = node_output(X1, Y1, g, h, i)\n",
        "    z4 = node_output(X1, Y1, j, k, l)\n",
        "    X2 = sigmoid(z3)\n",
        "    Y2 = sigmoid(z4)\n",
        "    z = node_output(X2, Y2, m, n, o)    \n",
        "    return print('Pred:',round(z,0), ', Real:',y)\n",
        "\n",
        "for i in range(len(test_data)):\n",
        "    print_z(test_data[i][0], test_data[i][1], test_data[i][2], test_data[i][3], test_labels[i])"
      ]
    },
    {
      "cell_type": "code",
      "execution_count": null,
      "id": "44018dc2-6ed9-41a5-8da5-e32bc558969c",
      "metadata": {
        "id": "44018dc2-6ed9-41a5-8da5-e32bc558969c"
      },
      "outputs": [],
      "source": [
        ""
      ]
    }
  ],
  "metadata": {
    "kernelspec": {
      "display_name": "Python 3",
      "language": "python",
      "name": "python3"
    },
    "language_info": {
      "codemirror_mode": {
        "name": "ipython",
        "version": 3
      },
      "file_extension": ".py",
      "mimetype": "text/x-python",
      "name": "python",
      "nbconvert_exporter": "python",
      "pygments_lexer": "ipython3",
      "version": "3.7.11"
    },
    "colab": {
      "name": "DL_Iris.ipynb",
      "provenance": [],
      "include_colab_link": true
    }
  },
  "nbformat": 4,
  "nbformat_minor": 5
}