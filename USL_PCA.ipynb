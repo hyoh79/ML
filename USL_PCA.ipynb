{
  "nbformat": 4,
  "nbformat_minor": 0,
  "metadata": {
    "colab": {
      "name": "USL_PCA.ipynb",
      "private_outputs": true,
      "provenance": [],
      "collapsed_sections": [],
      "authorship_tag": "ABX9TyP8n38lDRmbkGfQEDLecUom",
      "include_colab_link": true
    },
    "kernelspec": {
      "name": "python3",
      "display_name": "Python 3"
    },
    "language_info": {
      "name": "python"
    }
  },
  "cells": [
    {
      "cell_type": "markdown",
      "metadata": {
        "id": "view-in-github",
        "colab_type": "text"
      },
      "source": [
        "<a href=\"https://colab.research.google.com/github/hyoh79/ML/blob/main/USL_PCA.ipynb\" target=\"_parent\"><img src=\"https://colab.research.google.com/assets/colab-badge.svg\" alt=\"Open In Colab\"/></a>"
      ]
    },
    {
      "cell_type": "code",
      "metadata": {
        "id": "49dyFgkpoHAE"
      },
      "source": [
        "!pip install mglearn\n",
        "import mglearn\n",
        "# [Example1 of PCA] 다음 그림은 인위적으로 만든 2차원 데이터셋을 사용하여 PCA효과를 나타낸 것\n",
        "mglearn.plots.plot_pca_illustration()"
      ],
      "execution_count": null,
      "outputs": []
    },
    {
      "cell_type": "code",
      "metadata": {
        "id": "_4PqOZ4koQgE"
      },
      "source": [
        "import matplotlib.pyplot as plt\n",
        "fig,axes=plt.subplots(15,2,figsize=(10,20))\n",
        "\n",
        "from sklearn.datasets import load_breast_cancer\n",
        "cancer=load_breast_cancer()\n",
        "malignant=cancer.data[cancer.target==0]\n",
        "benign=cancer.data[cancer.target==1]\n",
        "\n",
        "ax=axes.ravel()\n",
        "\n"
      ],
      "execution_count": null,
      "outputs": []
    },
    {
      "cell_type": "code",
      "metadata": {
        "id": "dsbUVgSt2eiU"
      },
      "source": [
        ""
      ],
      "execution_count": null,
      "outputs": []
    },
    {
      "cell_type": "code",
      "metadata": {
        "id": "E2yNZWzEqu-M"
      },
      "source": [
        "import matplotlib.pyplot as plt\n",
        "import numpy as np\n",
        "fig,axes=plt.subplots(15,2,figsize=(10,20))\n",
        "\n",
        "from sklearn.datasets import load_breast_cancer\n",
        "cancer=load_breast_cancer()\n",
        "malignant=cancer.data[cancer.target==0]\n",
        "benign=cancer.data[cancer.target==1]\n",
        "\n",
        "ax=axes.ravel()\n",
        "\n",
        "for i in range(30):\n",
        "  _,bins=np.histogram(cancer.data[:,i],bins=50)\n",
        "  ax[i].hist(malignant[:,i],bins=bins,color=mglearn.cm3(0),alpha=.5)\n"
      ],
      "execution_count": null,
      "outputs": []
    },
    {
      "cell_type": "code",
      "metadata": {
        "id": "iOj20Gz6pkxL"
      },
      "source": [
        ""
      ],
      "execution_count": null,
      "outputs": []
    },
    {
      "cell_type": "code",
      "metadata": {
        "id": "ECIGQpTLsp2X"
      },
      "source": [
        "import matplotlib.pyplot as plt\n",
        "import numpy as np\n",
        "fig,axes=plt.subplots(15,2,figsize=(10,20))\n",
        "\n",
        "from sklearn.datasets import load_breast_cancer\n",
        "cancer=load_breast_cancer()\n",
        "malignant=cancer.data[cancer.target==0]\n",
        "benign=cancer.data[cancer.target==1]\n",
        "\n",
        "ax=axes.ravel()\n",
        "\n",
        "for i in range(30):\n",
        "  _,bins=np.histogram(cancer.data[:,i],bins=50)\n",
        "  ax[i].hist(malignant[:,i],bins=bins,color=mglearn.cm3(0),alpha=.5)\n",
        "  ax[i].hist(benign[:,i],bins=bins,color=mglearn.cm3(2),alpha=.5)\n",
        "  \n"
      ],
      "execution_count": null,
      "outputs": []
    },
    {
      "cell_type": "code",
      "metadata": {
        "id": "G4mNgFI9tDVS"
      },
      "source": [
        "import matplotlib.pyplot as plt\n",
        "import numpy as np\n",
        "fig,axes=plt.subplots(15,2,figsize=(10,20))\n",
        "\n",
        "from sklearn.datasets import load_breast_cancer\n",
        "cancer=load_breast_cancer()\n",
        "malignant=cancer.data[cancer.target==0]\n",
        "benign=cancer.data[cancer.target==1]\n",
        "\n",
        "ax=axes.ravel()\n",
        "\n",
        "for i in range(30):\n",
        "  _,bins=np.histogram(cancer.data[:,i],bins=50)\n",
        "  ax[i].hist(malignant[:,i],bins=bins,color=mglearn.cm3(0),alpha=.5)\n",
        "  ax[i].hist(benign[:,i],bins=bins,color=mglearn.cm3(0),alpha=.5)\n",
        "  \n"
      ],
      "execution_count": null,
      "outputs": []
    },
    {
      "cell_type": "code",
      "metadata": {
        "id": "sKMD0SDiszLH"
      },
      "source": [
        "import matplotlib.pyplot as plt\n",
        "import numpy as np\n",
        "fig,axes=plt.subplots(15,2,figsize=(10,20))\n",
        "\n",
        "from sklearn.datasets import load_breast_cancer\n",
        "cancer=load_breast_cancer()\n",
        "malignant=cancer.data[cancer.target==0]\n",
        "benign=cancer.data[cancer.target==1]\n",
        "\n",
        "ax=axes.ravel()\n",
        "\n",
        "for i in range(30):\n",
        "  _,bins=np.histogram(cancer.data[:,i],bins=50)\n",
        "  ax[i].hist(malignant[:,i],bins=bins,color=mglearn.cm3(0),alpha=.5)\n",
        "  ax[i].hist(benign[:,i],bins=bins,color=mglearn.cm3(2),alpha=.5)\n",
        "  ax[i].set_title(cancer.feature_names[i])\n",
        "  ax[i].set_yticks(())\n",
        "  \n"
      ],
      "execution_count": null,
      "outputs": []
    },
    {
      "cell_type": "code",
      "metadata": {
        "id": "syOsOQEutxc8"
      },
      "source": [
        "import matplotlib.pyplot as plt\n",
        "import numpy as np\n",
        "fig,axes=plt.subplots(15,2,figsize=(10,20))\n",
        "\n",
        "from sklearn.datasets import load_breast_cancer\n",
        "cancer=load_breast_cancer()\n",
        "malignant=cancer.data[cancer.target==0]\n",
        "benign=cancer.data[cancer.target==1]\n",
        "\n",
        "ax=axes.ravel()\n",
        "\n",
        "for i in range(30):\n",
        "  # 각 특성에 대한 히스토그램으로 특정 간격(bin이라고 부름)에 얼마나 많은 데이터 포인트가 나타나는지 횟수를 센 것\n",
        "  _,bins=np.histogram(cancer.data[:,i],bins=50)\n",
        "  ax[i].hist(malignant[:,i],bins=bins,color=mglearn.cm3(0),alpha=.5)\n",
        "  ax[i].hist(benign[:,i],bins=bins,color=mglearn.cm3(2),alpha=.5)\n",
        "  ax[i].set_title(cancer.feature_names[i])\n",
        "  ax[i].set_yticks(())\n",
        "  \n",
        "ax[0].set_xlabel(\"Feature Size\")\n",
        "ax[0].set_ylabel(\"Frequency\")\n",
        "ax[0].legend([\"malignant\",\"benign\"],loc=\"best\")\n",
        "fig.tight_layout()\n",
        "# 각 그래프는 히스토그램 두 개를 겹쳐놓은 것으로 초록색은 양성 클래스의 포인트를, 푸른색은 악성 클래스의 포인트를 나타냄.\n",
        "# 특성들이 클래스별로 어떻게 분포되어 있는지를 알려주고, 이를 통해 어떤 특성이 양성과 악성 샘플을 구분하는데 더 좋은지 가늠해볼 수 있음.\n",
        "# 예) \"smoothness error\"특성은 두 히스토그램이 거의 겹쳐져 별로 쓸모가 없음. \n",
        "# 예) \"worst concave points\"는 두 히스토그램이 확실히 구분되어 매우 유용한 특성임."
      ],
      "execution_count": null,
      "outputs": []
    },
    {
      "cell_type": "code",
      "metadata": {
        "id": "5lzSnfKGtX5a"
      },
      "source": [
        "# [Example2 of PCA] \n",
        "\n",
        "# PCA를 사용하면 특성간 주요 상호작용이나 이 상호작용이 클래스와 어떤 관련이 있는지 찾아낼 수 있기 때문에 2차원 시각화도 가능\n",
        "# 예) 처음 두 개의 주성분을 찾아 2차원 공간에 하나의 산점도로 데이터를 시각화해볼 수 있음.\n",
        "# PCA를 적용하려면 특성의 스케일이 서로 다르면 올바른 주성분 방향을 찾을 수 없으니 표쥰값으로 변환/스케일을 조정해야함.\n",
        "# 예) StandardScaler - 각 특성의 분산이 1이 되도록 함.\n",
        "\n",
        "from sklearn.preprocessing import StandardScaler\n",
        "scaler=StandardScaler()\n",
        "scaler.fit(cancer.data)\n",
        "X_scaled=scaler.transform(cancer.data)\n",
        "X_scaled\n",
        "\n",
        "from sklearn.decomposition import PCA\n",
        "pca=PCA(n_components=2) #데이터의 처음 두 개 주성분만 유지시킴\n",
        "pca.fit(X_scaled) # cancer data로 PCA모델을 만듬\n",
        "X_pca=pca.transform(X_scaled) # 처음 두 개의 주성분을 사용해 데이터를 변환\n",
        "\n",
        "print(\"원본 데이터 형태:\", str(X_scaled.shape))\n",
        "print(\"축소된 데이터 형태:\", str(X_pca.shape))\n",
        "\n",
        "plt.figure(figsize=(8,8))\n",
        "!pip install mglearn\n",
        "import mglearn\n",
        "mglearn.discrete_scatter(X_pca[:,0],X_pca[:,1],cancer.target)\n",
        "\n",
        "plt.legend([\"malignant\",\"benign\"],loc=\"best\")\n",
        "plt.gca().set_aspect(\"equal\")\n",
        "plt.xlabel(\"PCA1\")\n",
        "plt.ylabel(\"PCA2\")"
      ],
      "execution_count": null,
      "outputs": []
    },
    {
      "cell_type": "code",
      "metadata": {
        "id": "vZcrNcIiEt2k"
      },
      "source": [
        "print(\"PCA 주성분 형태:\", pca.components_.shape)"
      ],
      "execution_count": null,
      "outputs": []
    },
    {
      "cell_type": "code",
      "metadata": {
        "id": "OeLU8KhWbq4A"
      },
      "source": [
        "print(\"PCA 주성분 형태:\", pca.components_)"
      ],
      "execution_count": null,
      "outputs": []
    },
    {
      "cell_type": "code",
      "metadata": {
        "id": "b5-4mKwkbvH8"
      },
      "source": [
        "plt.matshow(pca.components_,cmap='viridis')\n",
        "plt.yticks([0,1],[\"PCA1\",\"PCA2\"])\n",
        "plt.colorbar()\n",
        "plt.xticks(range(len(cancer.feature_names)),cancer.feature_names,rotation=60,ha='left')\n",
        "plt.xlabel(\"Feature\")\n",
        "plt.ylabel(\"PCA\")\n",
        "# PCA1의 모든 특성은 부호가 같음. (모두 양수라서 모든 특성 사이에 공통된 상호관계가 있다는 뜻이지만, \n",
        "# 앞서 언급한 대로 PCA의 화살표 방향은 의미가 없음.)"
      ],
      "execution_count": null,
      "outputs": []
    },
    {
      "cell_type": "code",
      "metadata": {
        "id": "rqQGNfKZcFI4"
      },
      "source": [
        "# [Example3 of PCA]\n",
        "from sklearn.datasets import fetch_lfw_people \n",
        "people=fetch_lfw_people(min_faces_per_person=20, resize=0.7)"
      ],
      "execution_count": null,
      "outputs": []
    },
    {
      "cell_type": "code",
      "metadata": {
        "id": "272Pj9tuqnMv"
      },
      "source": [
        "fig,axes=plt.subplots(2,5,figsize=(15,8),subplot_kw={'xticks':(), 'yticks':()})"
      ],
      "execution_count": null,
      "outputs": []
    },
    {
      "cell_type": "code",
      "metadata": {
        "id": "Lnncmu4ArKDv"
      },
      "source": [
        "for target,image,ax in zip(people.target,people.images, axes.ravel()):\n",
        "  ax.imshow(image)\n",
        "  ax.set_title(people.target_names[target])"
      ],
      "execution_count": null,
      "outputs": []
    },
    {
      "cell_type": "code",
      "metadata": {
        "id": "1MFFW8CnriRw"
      },
      "source": [
        "fig,axes=plt.subplots(2,5,figsize=(15,8),subplot_kw={'xticks':(), 'yticks':()})\n",
        "for target,image,ax in zip(people.target,people.images, axes.ravel()):\n",
        "  ax.imshow(image)\n",
        "  ax.set_title(people.target_names[target])"
      ],
      "execution_count": null,
      "outputs": []
    },
    {
      "cell_type": "code",
      "metadata": {
        "id": "57Gmz7EerlQZ"
      },
      "source": [
        ""
      ],
      "execution_count": null,
      "outputs": []
    }
  ]
}