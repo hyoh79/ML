{
  "nbformat": 4,
  "nbformat_minor": 0,
  "metadata": {
    "colab": {
      "name": "USL_PCA.ipynb",
      "private_outputs": true,
      "provenance": [],
      "collapsed_sections": [],
      "authorship_tag": "ABX9TyPfm7gXTaQyhPdd1brgMOya",
      "include_colab_link": true
    },
    "kernelspec": {
      "name": "python3",
      "display_name": "Python 3"
    },
    "language_info": {
      "name": "python"
    }
  },
  "cells": [
    {
      "cell_type": "markdown",
      "metadata": {
        "id": "view-in-github",
        "colab_type": "text"
      },
      "source": [
        "<a href=\"https://colab.research.google.com/github/hyoh79/ML/blob/main/USL_PCA.ipynb\" target=\"_parent\"><img src=\"https://colab.research.google.com/assets/colab-badge.svg\" alt=\"Open In Colab\"/></a>"
      ]
    },
    {
      "cell_type": "code",
      "metadata": {
        "id": "49dyFgkpoHAE"
      },
      "source": [
        "!pip install mglearn\n",
        "import mglearn\n",
        "mglearn.plots.plot_pca_illustration()"
      ],
      "execution_count": null,
      "outputs": []
    },
    {
      "cell_type": "code",
      "metadata": {
        "id": "_4PqOZ4koQgE"
      },
      "source": [
        "import matplotlib.pyplot as plt\n",
        "fig,axes=plt.subplots(15,2,figsize=(10,20))\n",
        "\n",
        "from sklearn.datasets import load_breast_cancer\n",
        "cancer=load_breast_cancer()\n",
        "malignant=cancer.data[cancer.target==0]\n",
        "benign=cancer.data[cancer.target==1]\n",
        "\n",
        "ax=axes.ravel()\n",
        "\n"
      ],
      "execution_count": null,
      "outputs": []
    },
    {
      "cell_type": "code",
      "metadata": {
        "id": "dsbUVgSt2eiU"
      },
      "source": [
        ""
      ],
      "execution_count": null,
      "outputs": []
    },
    {
      "cell_type": "code",
      "metadata": {
        "id": "E2yNZWzEqu-M"
      },
      "source": [
        "import matplotlib.pyplot as plt\n",
        "import numpy as np\n",
        "fig,axes=plt.subplots(15,2,figsize=(10,20))\n",
        "\n",
        "from sklearn.datasets import load_breast_cancer\n",
        "cancer=load_breast_cancer()\n",
        "malignant=cancer.data[cancer.target==0]\n",
        "benign=cancer.data[cancer.target==1]\n",
        "\n",
        "ax=axes.ravel()\n",
        "\n",
        "for i in range(30):\n",
        "  _,bins=np.histogram(cancer.data[:,i],bins=50)\n",
        "  ax[i].hist(malignant[:,i],bins=bins,color=mglearn.cm3(0),alpha=.5)\n"
      ],
      "execution_count": null,
      "outputs": []
    },
    {
      "cell_type": "code",
      "metadata": {
        "id": "iOj20Gz6pkxL"
      },
      "source": [
        ""
      ],
      "execution_count": null,
      "outputs": []
    },
    {
      "cell_type": "code",
      "metadata": {
        "id": "ECIGQpTLsp2X"
      },
      "source": [
        "import matplotlib.pyplot as plt\n",
        "import numpy as np\n",
        "fig,axes=plt.subplots(15,2,figsize=(10,20))\n",
        "\n",
        "from sklearn.datasets import load_breast_cancer\n",
        "cancer=load_breast_cancer()\n",
        "malignant=cancer.data[cancer.target==0]\n",
        "benign=cancer.data[cancer.target==1]\n",
        "\n",
        "ax=axes.ravel()\n",
        "\n",
        "for i in range(30):\n",
        "  _,bins=np.histogram(cancer.data[:,i],bins=50)\n",
        "  ax[i].hist(malignant[:,i],bins=bins,color=mglearn.cm3(0),alpha=.5)\n",
        "  ax[i].hist(benign[:,i],bins=bins,color=mglearn.cm3(2),alpha=.5)\n",
        "  \n"
      ],
      "execution_count": null,
      "outputs": []
    },
    {
      "cell_type": "code",
      "metadata": {
        "id": "G4mNgFI9tDVS"
      },
      "source": [
        "import matplotlib.pyplot as plt\n",
        "import numpy as np\n",
        "fig,axes=plt.subplots(15,2,figsize=(10,20))\n",
        "\n",
        "from sklearn.datasets import load_breast_cancer\n",
        "cancer=load_breast_cancer()\n",
        "malignant=cancer.data[cancer.target==0]\n",
        "benign=cancer.data[cancer.target==1]\n",
        "\n",
        "ax=axes.ravel()\n",
        "\n",
        "for i in range(30):\n",
        "  _,bins=np.histogram(cancer.data[:,i],bins=50)\n",
        "  ax[i].hist(malignant[:,i],bins=bins,color=mglearn.cm3(0),alpha=.5)\n",
        "  ax[i].hist(benign[:,i],bins=bins,color=mglearn.cm3(0),alpha=.5)\n",
        "  \n"
      ],
      "execution_count": null,
      "outputs": []
    },
    {
      "cell_type": "code",
      "metadata": {
        "id": "sKMD0SDiszLH"
      },
      "source": [
        "import matplotlib.pyplot as plt\n",
        "import numpy as np\n",
        "fig,axes=plt.subplots(15,2,figsize=(10,20))\n",
        "\n",
        "from sklearn.datasets import load_breast_cancer\n",
        "cancer=load_breast_cancer()\n",
        "malignant=cancer.data[cancer.target==0]\n",
        "benign=cancer.data[cancer.target==1]\n",
        "\n",
        "ax=axes.ravel()\n",
        "\n",
        "for i in range(30):\n",
        "  _,bins=np.histogram(cancer.data[:,i],bins=50)\n",
        "  ax[i].hist(malignant[:,i],bins=bins,color=mglearn.cm3(0),alpha=.5)\n",
        "  ax[i].hist(benign[:,i],bins=bins,color=mglearn.cm3(2),alpha=.5)\n",
        "  ax[i].set_title(cancer.feature_names[i])\n",
        "  ax[i].set_yticks(())\n",
        "  \n"
      ],
      "execution_count": null,
      "outputs": []
    },
    {
      "cell_type": "code",
      "metadata": {
        "id": "syOsOQEutxc8"
      },
      "source": [
        "import matplotlib.pyplot as plt\n",
        "import numpy as np\n",
        "fig,axes=plt.subplots(15,2,figsize=(10,20))\n",
        "\n",
        "from sklearn.datasets import load_breast_cancer\n",
        "cancer=load_breast_cancer()\n",
        "malignant=cancer.data[cancer.target==0]\n",
        "benign=cancer.data[cancer.target==1]\n",
        "\n",
        "ax=axes.ravel()\n",
        "\n",
        "for i in range(30):\n",
        "  # 각 특성에 대한 히스토그램으로 특정 간격(bin이라고 부름)에 얼마나 많은 데이터 포인트가 나타나는지 횟수를 센 것\n",
        "  _,bins=np.histogram(cancer.data[:,i],bins=50)\n",
        "  ax[i].hist(malignant[:,i],bins=bins,color=mglearn.cm3(0),alpha=.5)\n",
        "  ax[i].hist(benign[:,i],bins=bins,color=mglearn.cm3(2),alpha=.5)\n",
        "  ax[i].set_title(cancer.feature_names[i])\n",
        "  ax[i].set_yticks(())\n",
        "  \n",
        "ax[0].set_xlabel(\"Feature Size\")\n",
        "ax[0].set_ylabel(\"Frequency\")\n",
        "ax[0].legend([\"malignant\",\"benign\"],loc=\"best\")\n",
        "fig.tight_layout()\n",
        "# 각 그래프는 히스토그램 두 개를 겹쳐놓은 것으로 초록색은 양성 클래스의 포인트를, 푸른색은 악성 클래스의 포인트를 나타냄.\n",
        "# 특성들이 클래스별로 어떻게 분포되어 있는지를 알려주고, 이를 통해 어떤 특성이 양성과 악성 샘플을 구분하는데 더 좋은지 가늠해볼 수 있음.\n",
        "# 예) \"smoothness error\"특성은 두 히스토그램이 거의 겹쳐져 별로 쓸모가 없음. \n",
        "# 예) \"worst concave points\"는 두 히스토그램이 확실히 구분되어 매우 유용한 특성임."
      ],
      "execution_count": null,
      "outputs": []
    },
    {
      "cell_type": "code",
      "metadata": {
        "id": "5lzSnfKGtX5a"
      },
      "source": [
        ""
      ],
      "execution_count": null,
      "outputs": []
    }
  ]
}