{
  "nbformat": 4,
  "nbformat_minor": 0,
  "metadata": {
    "colab": {
      "name": "USL_PCA.ipynb",
      "private_outputs": true,
      "provenance": [],
      "collapsed_sections": [],
      "authorship_tag": "ABX9TyPAnjoh5Pes5cRVAG8Wfn/d",
      "include_colab_link": true
    },
    "kernelspec": {
      "name": "python3",
      "display_name": "Python 3"
    },
    "language_info": {
      "name": "python"
    }
  },
  "cells": [
    {
      "cell_type": "markdown",
      "metadata": {
        "id": "view-in-github",
        "colab_type": "text"
      },
      "source": [
        "<a href=\"https://colab.research.google.com/github/hyoh79/ML/blob/main/USL_PCA.ipynb\" target=\"_parent\"><img src=\"https://colab.research.google.com/assets/colab-badge.svg\" alt=\"Open In Colab\"/></a>"
      ]
    },
    {
      "cell_type": "code",
      "metadata": {
        "id": "49dyFgkpoHAE"
      },
      "source": [
        "!pip install mglearn\n",
        "import mglearn\n",
        "# [Example1 of PCA] 다음 그림은 인위적으로 만든 2차원 데이터셋을 사용하여 PCA효과를 나타낸 것\n",
        "mglearn.plots.plot_pca_illustration()"
      ],
      "execution_count": null,
      "outputs": []
    },
    {
      "cell_type": "code",
      "metadata": {
        "id": "_4PqOZ4koQgE"
      },
      "source": [
        "import matplotlib.pyplot as plt\n",
        "fig,axes=plt.subplots(15,2,figsize=(10,20))\n",
        "\n",
        "from sklearn.datasets import load_breast_cancer\n",
        "cancer=load_breast_cancer()\n",
        "malignant=cancer.data[cancer.target==0]\n",
        "benign=cancer.data[cancer.target==1]\n",
        "\n",
        "ax=axes.ravel()\n",
        "\n"
      ],
      "execution_count": null,
      "outputs": []
    },
    {
      "cell_type": "code",
      "metadata": {
        "id": "dsbUVgSt2eiU"
      },
      "source": [
        ""
      ],
      "execution_count": null,
      "outputs": []
    },
    {
      "cell_type": "code",
      "metadata": {
        "id": "E2yNZWzEqu-M"
      },
      "source": [
        "import matplotlib.pyplot as plt\n",
        "import numpy as np\n",
        "fig,axes=plt.subplots(15,2,figsize=(10,20))\n",
        "\n",
        "from sklearn.datasets import load_breast_cancer\n",
        "cancer=load_breast_cancer()\n",
        "malignant=cancer.data[cancer.target==0]\n",
        "benign=cancer.data[cancer.target==1]\n",
        "\n",
        "ax=axes.ravel()\n",
        "\n",
        "for i in range(30):\n",
        "  _,bins=np.histogram(cancer.data[:,i],bins=50)\n",
        "  ax[i].hist(malignant[:,i],bins=bins,color=mglearn.cm3(0),alpha=.5)\n"
      ],
      "execution_count": null,
      "outputs": []
    },
    {
      "cell_type": "code",
      "metadata": {
        "id": "iOj20Gz6pkxL"
      },
      "source": [
        ""
      ],
      "execution_count": null,
      "outputs": []
    },
    {
      "cell_type": "code",
      "metadata": {
        "id": "ECIGQpTLsp2X"
      },
      "source": [
        "import matplotlib.pyplot as plt\n",
        "import numpy as np\n",
        "fig,axes=plt.subplots(15,2,figsize=(10,20))\n",
        "\n",
        "from sklearn.datasets import load_breast_cancer\n",
        "cancer=load_breast_cancer()\n",
        "malignant=cancer.data[cancer.target==0]\n",
        "benign=cancer.data[cancer.target==1]\n",
        "\n",
        "ax=axes.ravel()\n",
        "\n",
        "for i in range(30):\n",
        "  _,bins=np.histogram(cancer.data[:,i],bins=50)\n",
        "  ax[i].hist(malignant[:,i],bins=bins,color=mglearn.cm3(0),alpha=.5)\n",
        "  ax[i].hist(benign[:,i],bins=bins,color=mglearn.cm3(2),alpha=.5)\n",
        "  \n"
      ],
      "execution_count": null,
      "outputs": []
    },
    {
      "cell_type": "code",
      "metadata": {
        "id": "G4mNgFI9tDVS"
      },
      "source": [
        "import matplotlib.pyplot as plt\n",
        "import numpy as np\n",
        "fig,axes=plt.subplots(15,2,figsize=(10,20))\n",
        "\n",
        "from sklearn.datasets import load_breast_cancer\n",
        "cancer=load_breast_cancer()\n",
        "malignant=cancer.data[cancer.target==0]\n",
        "benign=cancer.data[cancer.target==1]\n",
        "\n",
        "ax=axes.ravel()\n",
        "\n",
        "for i in range(30):\n",
        "  _,bins=np.histogram(cancer.data[:,i],bins=50)\n",
        "  ax[i].hist(malignant[:,i],bins=bins,color=mglearn.cm3(0),alpha=.5)\n",
        "  ax[i].hist(benign[:,i],bins=bins,color=mglearn.cm3(0),alpha=.5)\n",
        "  \n"
      ],
      "execution_count": null,
      "outputs": []
    },
    {
      "cell_type": "code",
      "metadata": {
        "id": "sKMD0SDiszLH"
      },
      "source": [
        "import matplotlib.pyplot as plt\n",
        "import numpy as np\n",
        "fig,axes=plt.subplots(15,2,figsize=(10,20))\n",
        "\n",
        "from sklearn.datasets import load_breast_cancer\n",
        "cancer=load_breast_cancer()\n",
        "malignant=cancer.data[cancer.target==0]\n",
        "benign=cancer.data[cancer.target==1]\n",
        "\n",
        "ax=axes.ravel()\n",
        "\n",
        "for i in range(30):\n",
        "  _,bins=np.histogram(cancer.data[:,i],bins=50)\n",
        "  ax[i].hist(malignant[:,i],bins=bins,color=mglearn.cm3(0),alpha=.5)\n",
        "  ax[i].hist(benign[:,i],bins=bins,color=mglearn.cm3(2),alpha=.5)\n",
        "  ax[i].set_title(cancer.feature_names[i])\n",
        "  ax[i].set_yticks(())\n",
        "  \n"
      ],
      "execution_count": null,
      "outputs": []
    },
    {
      "cell_type": "code",
      "metadata": {
        "id": "syOsOQEutxc8"
      },
      "source": [
        "import matplotlib.pyplot as plt\n",
        "import numpy as np\n",
        "fig,axes=plt.subplots(15,2,figsize=(10,20))\n",
        "\n",
        "from sklearn.datasets import load_breast_cancer\n",
        "cancer=load_breast_cancer()\n",
        "malignant=cancer.data[cancer.target==0]\n",
        "benign=cancer.data[cancer.target==1]\n",
        "\n",
        "ax=axes.ravel()\n",
        "\n",
        "for i in range(30):\n",
        "  # 각 특성에 대한 히스토그램으로 특정 간격(bin이라고 부름)에 얼마나 많은 데이터 포인트가 나타나는지 횟수를 센 것\n",
        "  _,bins=np.histogram(cancer.data[:,i],bins=50)\n",
        "  ax[i].hist(malignant[:,i],bins=bins,color=mglearn.cm3(0),alpha=.5)\n",
        "  ax[i].hist(benign[:,i],bins=bins,color=mglearn.cm3(2),alpha=.5)\n",
        "  ax[i].set_title(cancer.feature_names[i])\n",
        "  ax[i].set_yticks(())\n",
        "  \n",
        "ax[0].set_xlabel(\"Feature Size\")\n",
        "ax[0].set_ylabel(\"Frequency\")\n",
        "ax[0].legend([\"malignant\",\"benign\"],loc=\"best\")\n",
        "fig.tight_layout()\n",
        "# 각 그래프는 히스토그램 두 개를 겹쳐놓은 것으로 초록색은 양성 클래스의 포인트를, 푸른색은 악성 클래스의 포인트를 나타냄.\n",
        "# 특성들이 클래스별로 어떻게 분포되어 있는지를 알려주고, 이를 통해 어떤 특성이 양성과 악성 샘플을 구분하는데 더 좋은지 가늠해볼 수 있음.\n",
        "# 예) \"smoothness error\"특성은 두 히스토그램이 거의 겹쳐져 별로 쓸모가 없음. \n",
        "# 예) \"worst concave points\"는 두 히스토그램이 확실히 구분되어 매우 유용한 특성임."
      ],
      "execution_count": null,
      "outputs": []
    },
    {
      "cell_type": "code",
      "metadata": {
        "id": "5lzSnfKGtX5a"
      },
      "source": [
        "# [Example2 of PCA] \n",
        "\n",
        "# PCA를 사용하면 특성간 주요 상호작용이나 이 상호작용이 클래스와 어떤 관련이 있는지 찾아낼 수 있기 때문에 2차원 시각화도 가능\n",
        "# 예) 처음 두 개의 주성분을 찾아 2차원 공간에 하나의 산점도로 데이터를 시각화해볼 수 있음.\n",
        "# PCA를 적용하려면 특성의 스케일이 서로 다르면 올바른 주성분 방향을 찾을 수 없으니 표쥰값으로 변환/스케일을 조정해야함.\n",
        "# 예) StandardScaler - 각 특성의 분산이 1이 되도록 함.\n",
        "\n",
        "from sklearn.preprocessing import StandardScaler\n",
        "scaler=StandardScaler()\n",
        "scaler.fit(cancer.data)\n",
        "X_scaled=scaler.transform(cancer.data)\n",
        "X_scaled\n",
        "\n",
        "from sklearn.decomposition import PCA\n",
        "pca=PCA(n_components=2) #데이터의 처음 두 개 주성분만 유지시킴\n",
        "pca.fit(X_scaled) # cancer data로 PCA모델을 만듬\n",
        "X_pca=pca.transform(X_scaled) # 처음 두 개의 주성분을 사용해 데이터를 변환\n",
        "\n",
        "print(\"원본 데이터 형태:\", str(X_scaled.shape))\n",
        "print(\"축소된 데이터 형태:\", str(X_pca.shape))\n",
        "\n",
        "plt.figure(figsize=(8,8))\n",
        "!pip install mglearn\n",
        "import mglearn\n",
        "mglearn.discrete_scatter(X_pca[:,0],X_pca[:,1],cancer.target)\n",
        "\n",
        "plt.legend([\"malignant\",\"benign\"],loc=\"best\")\n",
        "plt.gca().set_aspect(\"equal\")\n",
        "plt.xlabel(\"PCA1\")\n",
        "plt.ylabel(\"PCA2\")"
      ],
      "execution_count": null,
      "outputs": []
    },
    {
      "cell_type": "code",
      "metadata": {
        "id": "vZcrNcIiEt2k"
      },
      "source": [
        "print(\"PCA 주성분 형태:\", pca.components_.shape)"
      ],
      "execution_count": null,
      "outputs": []
    },
    {
      "cell_type": "code",
      "metadata": {
        "id": "OeLU8KhWbq4A"
      },
      "source": [
        "print(\"PCA 주성분 형태:\", pca.components_)"
      ],
      "execution_count": null,
      "outputs": []
    },
    {
      "cell_type": "code",
      "metadata": {
        "id": "b5-4mKwkbvH8"
      },
      "source": [
        "plt.matshow(pca.components_,cmap='viridis')\n",
        "plt.yticks([0,1],[\"PCA1\",\"PCA2\"])\n",
        "plt.colorbar()\n",
        "plt.xticks(range(len(cancer.feature_names)),cancer.feature_names,rotation=60,ha='left')\n",
        "plt.xlabel(\"Feature\")\n",
        "plt.ylabel(\"PCA\")\n",
        "# PCA1의 모든 특성은 부호가 같음. (모두 양수라서 모든 특성 사이에 공통된 상호관계가 있다는 뜻이지만, \n",
        "# 앞서 언급한 대로 PCA의 화살표 방향은 의미가 없음.)"
      ],
      "execution_count": null,
      "outputs": []
    },
    {
      "cell_type": "code",
      "metadata": {
        "id": "rqQGNfKZcFI4"
      },
      "source": [
        "# [Example3 of PCA]\n",
        "from sklearn.datasets import fetch_lfw_people \n",
        "people=fetch_lfw_people(min_faces_per_person=20, resize=0.7)\n",
        "#print(\"people:\", people)\n",
        "print(\"people.DESCR\",people.DESCR)"
      ],
      "execution_count": null,
      "outputs": []
    },
    {
      "cell_type": "code",
      "metadata": {
        "id": "272Pj9tuqnMv"
      },
      "source": [
        "\n",
        "\n",
        "fig,axes=plt.subplots(2,5,figsize=(15,8),subplot_kw={'xticks':(), 'yticks':()})"
      ],
      "execution_count": null,
      "outputs": []
    },
    {
      "cell_type": "code",
      "metadata": {
        "id": "Lnncmu4ArKDv"
      },
      "source": [
        "for target,image,ax in zip(people.target,people.images, axes.ravel()):\n",
        "  ax.imshow(image)\n",
        "  ax.set_title(people.target_names[target])"
      ],
      "execution_count": null,
      "outputs": []
    },
    {
      "cell_type": "code",
      "metadata": {
        "id": "1MFFW8CnriRw"
      },
      "source": [
        "fig,axes=plt.subplots(2,5,figsize=(15,8),subplot_kw={'xticks':(), 'yticks':()})\n",
        "for target,image,ax in zip(people.target,people.images, axes.ravel()):\n",
        "  ax.imshow(image)\n",
        "  ax.set_title(people.target_names[target])\n",
        "# 62명의 얼굴을 찍은 이미지가 총 3,023개가 있으며 각 이미지의 크기는 87x65픽셀\n",
        "print(\"people.images.shape:\", people.images.shape)\n",
        "print(\"클래스 개수:\", len(people.target_names))"
      ],
      "execution_count": null,
      "outputs": []
    },
    {
      "cell_type": "code",
      "metadata": {
        "id": "57Gmz7EerlQZ"
      },
      "source": [
        "# 각 타깃이 나타난 횟수 계산\n",
        "counts=np.bincount(people.target)\n",
        "\n",
        "# 타깃별 이름과 횟수 출력\n",
        "for i, (count,name) in enumerate(zip(counts,people.target_names)):\n",
        "  print(\"{0:25} {1:3}\".format(name,count),end='    ')\n",
        "  if(i+1) %3 == 0:\n",
        "    print()\n",
        "\n",
        "# 이 데이터셋은 조금 편중되어 있어서 다음과 같이 조지 부시와 콜린 파월의 이미지가 많음.\n"
      ],
      "execution_count": null,
      "outputs": []
    },
    {
      "cell_type": "code",
      "metadata": {
        "id": "7iwx8I2ovl9m"
      },
      "source": [
        "# 데이터의 편중을 없애기 위해서 사람마다 50개의 이미지만 선택.\n",
        "# 이렇게 하지 않으면, 조시 부시에 치우친 특성만 추출됨.\n",
        "\n",
        "# 총 3023개의 이미지를 쉽게 다루기 위한 mask변수를 모두 False로 초기화\n",
        "mask=np.zeros(people.target.shape,dtype=np.bool)\n",
        "print(\"mask:\", mask)\n",
        "print(\"mask.shape:\", mask.shape)\n",
        "# 3023개의 각 이미지의 위치와 라벨(클래스, 유명인의 이름)를 출력후 확인\n",
        "print(people.target)\n",
        "#print(people.target.shape)\n",
        "#print(people.target_names)\n",
        "\n",
        "\n",
        "for target in np.unique(people.target):\n",
        "  print(\"target in for loop\",target)\n",
        "\n",
        "# 얼굴인식이라 하면 통상적으로 새로운 얼굴 이미지가 데이터베이스에 있는 기존 얼굴 중 하나에 속하는지 찻는 것\n",
        "# 예) 사진 애플리케이션, 소셜 미디어, 보안 애플리케이션등\n",
        "# 해결책1) 각 사람을 서로 다른 클래스로 구분하는 분류기를 만드는 것 --> 하지만 각 사람에 대한 이미지가 부족\n",
        "# 해결책2) 대규모 모델을 다시 훈련시키지 않고도 새로운 사람의 얼굴을 쉽게 추가할 수 있어야 함. 분류하려는 얼굴과 가장 비슷한 얼굴 이미지를 찾는 1-최근접 이웃 분류기를 사용\n"
      ],
      "execution_count": null,
      "outputs": []
    },
    {
      "cell_type": "code",
      "metadata": {
        "id": "nFvnJGkp0TLy"
      },
      "source": [
        "# 데이터의 편중을 없애기 위해서 사람마다 50개의 이미지만 선택.\n",
        "# 이렇게 하지 않으면, 조시 부시에 치우친 특성만 추출됨.\n",
        "mask=np.zeros(people.target.shape,dtype=np.bool)\n",
        "print(people.target)\n",
        "print(people.target.shape)\n",
        "print(people.target_names)\n",
        "mask\n",
        "\n",
        "for target in np.unique(people.target):\n",
        "  mask[np.where(people.target==target)[0][:50]]=1\n",
        "\n",
        "print(\"people.data:\", people.data)\n",
        "\n",
        "print(\"people.data[mask]:\", people.data[mask])\n",
        "X_people=people.data[mask]\n",
        "print(\"X_people:\",X_people)\n",
        "\n",
        "\n",
        "# 얼굴인식이라 하면 통상적으로 새로운 얼굴 이미지가 데이터베이스에 있는 기존 얼굴 중 하나에 속하는지 찻는 것\n",
        "# 예) 사진 애플리케이션, 소셜 미디어, 보안 애플리케이션등\n",
        "# 해결책1) 각 사람을 서로 다른 클래스로 구분하는 분류기를 만드는 것 --> 하지만 각 사람에 대한 이미지가 부족\n",
        "# 해결책2) 대규모 모델을 다시 훈련시키지 않고도 새로운 사람의 얼굴을 쉽게 추가할 수 있어야 함. 분류하려는 얼굴과 가장 비슷한 얼굴 이미지를 찾는 1-최근접 이웃 분류기를 사용\n",
        "\n",
        "\n"
      ],
      "execution_count": null,
      "outputs": []
    },
    {
      "cell_type": "code",
      "metadata": {
        "id": "laQ85lUyx_ip"
      },
      "source": [
        "\n",
        "from sklearn.neighbors import  KNeighborsClassifier\n",
        "X_train,X_test,y_train,y_test=train_test_split(X_people,y_people,)"
      ],
      "execution_count": null,
      "outputs": []
    }
  ]
}