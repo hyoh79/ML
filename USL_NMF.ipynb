{
  "nbformat": 4,
  "nbformat_minor": 0,
  "metadata": {
    "colab": {
      "name": "USL_NMF.ipynb",
      "private_outputs": true,
      "provenance": [],
      "collapsed_sections": [],
      "authorship_tag": "ABX9TyMHSrEo7KAz/LifdLitLVSw",
      "include_colab_link": true
    },
    "kernelspec": {
      "name": "python3",
      "display_name": "Python 3"
    },
    "language_info": {
      "name": "python"
    }
  },
  "cells": [
    {
      "cell_type": "markdown",
      "metadata": {
        "id": "view-in-github",
        "colab_type": "text"
      },
      "source": [
        "<a href=\"https://colab.research.google.com/github/hyoh79/ML/blob/main/USL_NMF.ipynb\" target=\"_parent\"><img src=\"https://colab.research.google.com/assets/colab-badge.svg\" alt=\"Open In Colab\"/></a>"
      ]
    },
    {
      "cell_type": "code",
      "metadata": {
        "id": "dnnQtnLUM2GO"
      },
      "source": [
        "#비음수 행렬분해(NMF: Non-negative Matrix Factorization)\n",
        "!pip install mglearn\n",
        "import mglearn\n",
        "\n",
        "# ex1) Toy dataset\n",
        "mglearn.plots.plot_nmf_illustration()\n",
        "# 인위적 toy dataset에 NMF적용하기\n",
        "# PCA와 달리 NMF로 데이터를 다루려면 주어진 데이터가 양수인지 확인해야함\n",
        "# 데이터가 원점 (0,0)에서 상대적으로 어디에 놓여있는지가 중요함.\n",
        "# 원점 (0,0)에서 데이터로 가는 방향을 추출하는 것, 즉 음수 미포함 성분을 이해할 수 있음.\n",
        "\n",
        "# NMF로 찾은 성분이 2개일 때 (왼쪽)와 1개일 때 (오른쪽)"
      ],
      "execution_count": null,
      "outputs": []
    },
    {
      "cell_type": "code",
      "metadata": {
        "id": "KV-g7Lp_NEbX"
      },
      "source": [
        "# ex2) LFW dataset with NMF\n",
        "from sklearn.datasets import fetch_lfw_people\n",
        "import numpy as np\n",
        "from sklearn.model_selection import train_test_split\n",
        "people=fetch_lfw_people(min_faces_per_person=20, resize=0.7)\n",
        "image_shape=people.images[0].shape\n",
        "\n",
        "mask=np.zeros(people.target.shape,dtype=np.bool)\n",
        "for target in np.unique(people.target):\n",
        "  mask[np.where(people.target==target)[0][:50]]=1\n",
        "\n",
        "X_people=people.data[mask]\n",
        "y_people=people.target[mask]\n",
        "X_people=X_people/255.\n",
        "\n",
        "X_train,X_test,y_train,y_test=train_test_split(X_people,y_people,stratify=y_people,random_state=0)\n",
        "mglearn.plots.plot_nmf_faces(X_train, X_test,image_shape)\n",
        "\n",
        "# 변환을 되돌린 결과는 PCA를 사용했을 때와 비슷하지만 품질이 조금 떨어짐.\n",
        "# PCA가 재구성 측면에서 최선의 방향을 찾기 때문\n",
        "# NMF는 데이터를 인코딩하거나 재구성하는 용도로 사용하기 보다는 주로 데이터에 있는 유용한 패턴을 찾는 데 활용됨."
      ],
      "execution_count": null,
      "outputs": []
    },
    {
      "cell_type": "code",
      "metadata": {
        "id": "aupWfUPENngJ"
      },
      "source": [
        "# NMF에서 15개의 성분만 추출\n",
        "from sklean.decomposition import NMF"
      ],
      "execution_count": null,
      "outputs": []
    },
    {
      "cell_type": "code",
      "metadata": {
        "id": "_qaEIWlOcJiu"
      },
      "source": [
        ""
      ],
      "execution_count": null,
      "outputs": []
    }
  ]
}