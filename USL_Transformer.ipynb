{
  "nbformat": 4,
  "nbformat_minor": 0,
  "metadata": {
    "colab": {
      "name": "USL_Transformer.ipynb",
      "private_outputs": true,
      "provenance": [],
      "collapsed_sections": [],
      "authorship_tag": "ABX9TyP3NgHyU4PrKYS4bRu1dkdb",
      "include_colab_link": true
    },
    "kernelspec": {
      "name": "python3",
      "display_name": "Python 3"
    },
    "language_info": {
      "name": "python"
    }
  },
  "cells": [
    {
      "cell_type": "markdown",
      "metadata": {
        "id": "view-in-github",
        "colab_type": "text"
      },
      "source": [
        "<a href=\"https://colab.research.google.com/github/hyoh79/ML/blob/main/USL_Transformer.ipynb\" target=\"_parent\"><img src=\"https://colab.research.google.com/assets/colab-badge.svg\" alt=\"Open In Colab\"/></a>"
      ]
    },
    {
      "cell_type": "code",
      "metadata": {
        "id": "834d57jvPa0Z"
      },
      "source": [
        "# 1) Original dataset에 Transformer preprocessing적용해보기\n",
        "import matplotlib.pyplot as plt\n",
        "import numpy as np\n",
        "from sklearn.datasets import make_blobs\n",
        "from sklearn.preprocessing import QuantileTransformer, StandardScaler, PowerTransformer\n",
        "\n",
        "X,y=make_blobs(n_samples=50,centers=2, random_state=4,cluster_std=1)\n",
        "X+=3\n",
        "\n",
        "plt.scatter(X[:,0],X[:,1],c=y,s=30,edgecolors='black')"
      ],
      "execution_count": null,
      "outputs": []
    },
    {
      "cell_type": "code",
      "metadata": {
        "id": "O2kCmY6JQwpr"
      },
      "source": [
        "plt.xlim(0,16)\n",
        "plt.xlabel('x0')\n",
        "plt.ylim(0,10)\n",
        "plt.ylabel('x1')\n",
        "plt.title(\"Original Data\")\n",
        "plt.show()"
      ],
      "execution_count": null,
      "outputs": []
    },
    {
      "cell_type": "code",
      "metadata": {
        "id": "OB5fJFEGRRmd"
      },
      "source": [
        "# \n",
        "import matplotlib.pyplot as plt\n",
        "import numpy as np\n",
        "from sklearn.datasets import make_blobs\n",
        "from sklearn.preprocessing import QuantileTransformer, StandardScaler, PowerTransformer\n",
        "\n",
        "X,y=make_blobs(n_samples=50,centers=2, random_state=4,cluster_std=1)\n",
        "X+=3\n",
        "\n",
        "plt.scatter(X[:,0],X[:,1],c=y,s=30,edgecolors='black')\n",
        "plt.xlim(0,16)\n",
        "plt.xlabel('x0')\n",
        "plt.ylim(0,10)\n",
        "plt.ylabel('x1')\n",
        "plt.title(\"Original Data\")\n",
        "plt.show()"
      ],
      "execution_count": null,
      "outputs": []
    },
    {
      "cell_type": "code",
      "metadata": {
        "id": "IWkytW33Rasl"
      },
      "source": [
        "# 1) QuantileTransformer 적용\n",
        "# 랜덤하게 흩어져 있던 데이터 포인트들이 두 특성의 0과 1사이에 고르게 분포됨.\n",
        "\n",
        "# scaler=QuantileTransformer(n_quantiles=1000)명령어 사용시 아래와 같은 경고발생\n",
        "# UserWarning: n_quantiles (1000) is greater than the total number of samples (50). n_quantiles is set to n_samples.  % (self.n_quantiles, n_samples))\n",
        "\n",
        "scaler=QuantileTransformer(n_quantiles=50) # or scaler=QuantileTransformer()가능\n",
        "X_trans=scaler.fit_transform(X)\n",
        "\n",
        "plt.scatter(X_trans[:,0],X_trans[:,1],c=y,s=30,edgecolors='black')\n",
        "plt.xlim(0,5)\n",
        "plt.xlabel('x0')\n",
        "plt.ylim(0,5)\n",
        "plt.ylabel('x1')\n",
        "plt.title(type(scaler).__name__)\n",
        "plt.show()"
      ],
      "execution_count": null,
      "outputs": []
    },
    {
      "cell_type": "code",
      "metadata": {
        "id": "dRq0_3_GSnSa"
      },
      "source": [
        "# 랜덤하게 흩어져 있던 데이터 포인트들이 두 특성의 0과 1사이에 고르게 분포되어 있음.\n",
        "# 변환된 데이터의 히스토그램을 그려보면 균등 분포를 쉽게 확인가능\n",
        "plt.hist(X_trans)\n",
        "plt.show()"
      ],
      "execution_count": null,
      "outputs": []
    },
    {
      "cell_type": "code",
      "metadata": {
        "id": "YD1CLedeY98i"
      },
      "source": [
        "# QuantileTransformer의 분위 수는 n_quantiles 매개변수에서 설정할 수 있으며 기본값은 1,000\n",
        "# scaler객체의 quantiles_속성에는 특성별로 계산된 분위 값이 들어 있으므로 이 속성의 크기는 (n_quantiles, n_features)\n",
        "print(scaler.quantiles_.shape)"
      ],
      "execution_count": null,
      "outputs": []
    },
    {
      "cell_type": "code",
      "metadata": {
        "id": "SJA-0Prjav9E"
      },
      "source": [
        "# 2) Simpe dataset (i.e., 하나의 특성과 다섯 개의 샘플)에 Transformer preprocessing적용해보기\n",
        "x=np.array([[0],[5],[8],[9],[10]])\n",
        "x"
      ],
      "execution_count": null,
      "outputs": []
    },
    {
      "cell_type": "code",
      "metadata": {
        "id": "VAwz2lEZdHl8"
      },
      "source": [
        "# np.percentile()함수는 두 번째 매개변수에서 지정한 분위에 해당하는 샘플을 추출하여 반환함.\n",
        "print(np.percentile(x[:,0],[0,25,50,75,100]))"
      ],
      "execution_count": null,
      "outputs": []
    },
    {
      "cell_type": "code",
      "metadata": {
        "id": "Qsx4I0nadaP6"
      },
      "source": [
        ""
      ],
      "execution_count": null,
      "outputs": []
    }
  ]
}