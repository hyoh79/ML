{
  "cells": [
    {
      "cell_type": "markdown",
      "metadata": {
        "id": "view-in-github",
        "colab_type": "text"
      },
      "source": [
        "<a href=\"https://colab.research.google.com/github/hyoh79/ML/blob/main/%EC%9D%B8%EA%B3%B5%EC%A7%80%EB%8A%A5%ED%94%84%EB%A1%9C%EA%B7%B8%EB%9E%98%EB%B0%8D_%EB%94%A5%EB%9F%AC%EB%8B%9D%EA%B8%B0%EC%B4%88_%EA%B5%AC%ED%98%84.ipynb\" target=\"_parent\"><img src=\"https://colab.research.google.com/assets/colab-badge.svg\" alt=\"Open In Colab\"/></a>"
      ]
    },
    {
      "cell_type": "markdown",
      "id": "1eaa7608-4a38-46dc-bdb9-01e8cc26dc04",
      "metadata": {
        "id": "1eaa7608-4a38-46dc-bdb9-01e8cc26dc04"
      },
      "source": [
        "# 원본 소스코드"
      ]
    },
    {
      "cell_type": "code",
      "execution_count": 1,
      "id": "fdc3e468",
      "metadata": {
        "colab": {
          "base_uri": "https://localhost:8080/"
        },
        "id": "fdc3e468",
        "outputId": "8f9780ee-f843-4c97-f234-7b73d9f18080"
      },
      "outputs": [
        {
          "output_type": "stream",
          "name": "stdout",
          "text": [
            "a=-1.046391; b=0.013897; c=0.137630; d=-1.427327; e=0.996803; f=-0.392470; g=0.818800; h=-1.042211; i=-0.000658\n"
          ]
        }
      ],
      "source": [
        "import math\n",
        "import random\n",
        "\n",
        "a = random.uniform(-1,1)\n",
        "b = random.uniform(-1,1)\n",
        "c = random.uniform(-1,1)\n",
        "d = random.uniform(-1,1)\n",
        "e = random.uniform(-1,1)\n",
        "f = random.uniform(-1,1)\n",
        "g = random.uniform(-1,1)\n",
        "h = random.uniform(-1,1)\n",
        "i = random.uniform(-1,1)\n",
        "\n",
        "eta = 0.00001\n",
        "\n",
        "def sigmoid(x):\n",
        "    return 1.0/(1.0+math.exp(-x))\n",
        "\n",
        "data=[(5,10),(7,18),(10,8),(15,15),(20,3),(23,12)]\n",
        "labels=[-1,-1,+1,+1,-1,-1]\n",
        "\n",
        "for counter in range(1000000):\n",
        "    da=db=dc=dd=de=df=dg=dh=di=0.0\n",
        "    for idx in range(len(data)):\n",
        "        x=float(data[idx][0])\n",
        "        y=float(data[idx][1])\n",
        "        \n",
        "        z1=a*x+b*y+c\n",
        "        X=sigmoid(z1)\n",
        "        \n",
        "        z2=d*x+e*y+f\n",
        "        Y=sigmoid(z2)\n",
        "        \n",
        "        z=g*X+h*Y+i\n",
        "        Z=labels[idx]\n",
        "        \n",
        "        dz=2*(z-Z)\n",
        "        dz1=dz*g*sigmoid(z1)*(1.0-sigmoid(z1))\n",
        "        dz2=dz*h*sigmoid(z2)*(1.0-sigmoid(z2))\n",
        "        da+=dz1*x\n",
        "        db+=dz1*y\n",
        "        dc+=dz1\n",
        "        dd+=dz2*x\n",
        "        de+=dz2*y\n",
        "        df+=dz2\n",
        "        dg+=dz*X\n",
        "        dh+=dz*Y\n",
        "        di+=dz\n",
        "    a=a-eta*da\n",
        "    b=b-eta*db\n",
        "    c=c-eta*dc\n",
        "    d=d-eta*dd\n",
        "    e=e-eta*de\n",
        "    f=f-eta*df\n",
        "    g=g-eta*dg\n",
        "    h=h-eta*dh\n",
        "    i=i-eta*di\n",
        "print(\"a=%lf; b=%lf; c=%lf; d=%lf; e=%lf; f=%lf; g=%lf; h=%lf; i=%lf\" % (a,b,c,d,e,f,g,h,i)) "
      ]
    },
    {
      "cell_type": "code",
      "execution_count": 2,
      "id": "d2cf31a9",
      "metadata": {
        "id": "d2cf31a9"
      },
      "outputs": [],
      "source": [
        "def print_z(x, y):\n",
        "    z=g*sigmoid(a*x+b*y+c)+h*sigmoid(d*x+e*y+f)+i\n",
        "    return print(z)"
      ]
    },
    {
      "cell_type": "code",
      "execution_count": 3,
      "id": "6d8c3dab",
      "metadata": {
        "colab": {
          "base_uri": "https://localhost:8080/"
        },
        "id": "6d8c3dab",
        "outputId": "93aa08c1-7384-48c3-bb40-5cae3b77645f"
      },
      "outputs": [
        {
          "output_type": "stream",
          "name": "stdout",
          "text": [
            "-0.953500374374302\n",
            "-1.0415306772347963\n",
            "-0.0019201340731969112\n",
            "-0.0017601271902518076\n",
            "-0.0006576530733563919\n",
            "-0.0006576544366809612\n"
          ]
        }
      ],
      "source": [
        "print_z(5,10)\n",
        "print_z(7,18)\n",
        "print_z(10,8)\n",
        "print_z(15,15)\n",
        "print_z(20,3)\n",
        "print_z(23,12)"
      ]
    },
    {
      "cell_type": "code",
      "execution_count": 3,
      "id": "588280df",
      "metadata": {
        "id": "588280df"
      },
      "outputs": [],
      "source": [
        ""
      ]
    },
    {
      "cell_type": "code",
      "execution_count": 3,
      "id": "7b53eeba",
      "metadata": {
        "id": "7b53eeba"
      },
      "outputs": [],
      "source": [
        ""
      ]
    },
    {
      "cell_type": "code",
      "execution_count": 3,
      "id": "0f4eafb7",
      "metadata": {
        "id": "0f4eafb7"
      },
      "outputs": [],
      "source": [
        ""
      ]
    },
    {
      "cell_type": "code",
      "execution_count": 3,
      "id": "4746b0db",
      "metadata": {
        "id": "4746b0db"
      },
      "outputs": [],
      "source": [
        ""
      ]
    },
    {
      "cell_type": "markdown",
      "id": "7da65596-ef05-450e-a0d7-76d97396e1cd",
      "metadata": {
        "id": "7da65596-ef05-450e-a0d7-76d97396e1cd"
      },
      "source": [
        "# 기본문제 - Layer 추가"
      ]
    },
    {
      "cell_type": "code",
      "execution_count": 4,
      "id": "403f0528",
      "metadata": {
        "id": "403f0528"
      },
      "outputs": [],
      "source": [
        "import math\n",
        "import random\n",
        "\n",
        "a = random.uniform(-1,1)\n",
        "b = random.uniform(-1,1)\n",
        "c = random.uniform(-1,1)\n",
        "d = random.uniform(-1,1)\n",
        "e = random.uniform(-1,1)\n",
        "f = random.uniform(-1,1)\n",
        "g = random.uniform(-1,1)\n",
        "h = random.uniform(-1,1)\n",
        "i = random.uniform(-1,1)\n",
        "j = random.uniform(-1,1)\n",
        "k = random.uniform(-1,1)\n",
        "l = random.uniform(-1,1)\n",
        "m = random.uniform(-1,1)\n",
        "n = random.uniform(-1,1)\n",
        "o = random.uniform(-1,1)\n",
        "\n",
        "eta = 0.00001\n",
        "data=[(5,10),(7,18),(10,8),(15,15),(20,3),(23,12)]\n",
        "labels=[-1,-1,+1,+1,-1,-1]\n",
        "\n",
        "def sigmoid(x):\n",
        "    return 1.0/(1.0+math.exp(-x))\n",
        "\n",
        "def node_output(x, y, a, b, c):\n",
        "    return a*x+b*y+c\n",
        "\n",
        "def back_sigmoid(fore_gredient, para, this_value):\n",
        "    return fore_gredient*para*sigmoid(this_value)*(1.0 - sigmoid(this_value))"
      ]
    },
    {
      "cell_type": "code",
      "execution_count": 5,
      "id": "a0f22dde-575e-4923-9dde-f16f90dc9b14",
      "metadata": {
        "colab": {
          "base_uri": "https://localhost:8080/"
        },
        "id": "a0f22dde-575e-4923-9dde-f16f90dc9b14",
        "outputId": "4f4e9ba6-2427-40da-c14d-ac203b8a6c54"
      },
      "outputs": [
        {
          "output_type": "stream",
          "name": "stdout",
          "text": [
            "-0.7645004385164361 -0.3625377666509208 0.2240726653087888 1.400316411877286 -1.0049481332240877 0.7239821644559149 -0.5225910771403082 2.0714331596678237 -0.9954491655622544 0.9584277608109432 -0.5458689790823655 0.48251735834044746 1.9009621218467379 -1.006468498757404 -0.9307502126635538\n"
          ]
        }
      ],
      "source": [
        "for counter in range(1000000):\n",
        "    da=db=dc=dd=de=df=dg=dh=di=dj=dk=dl=dm=dn=do=0.0\n",
        "    \n",
        "    for idx in range(len(data)):\n",
        "        x=float(data[idx][0])\n",
        "        y=float(data[idx][1])\n",
        "        \n",
        "        z1 = node_output(x, y, a, b, c)\n",
        "        z2 = node_output(x, y, d, e, f)\n",
        "        X1 = sigmoid(z1)\n",
        "        Y1 = sigmoid(z2)\n",
        "        z3 = node_output(X1, Y1, g, h, i)\n",
        "        z4 = node_output(X1, Y1, j, k, l)\n",
        "        X2 = sigmoid(z3)\n",
        "        Y2 = sigmoid(z4)\n",
        "        z = node_output(X2, Y2, m, n, o)\n",
        "        \n",
        "        Z = labels[idx]\n",
        "        dz = 2*(z-Z)\n",
        "\n",
        "        dz3 = back_sigmoid(dz, m, z3)\n",
        "        dz4 = back_sigmoid(dz, n, z4)\n",
        "        dm += dz*X2\n",
        "        dn += dz*Y2\n",
        "        do += dz\n",
        "        \n",
        "        dg += dz3*X1\n",
        "        dh += dz3*Y1\n",
        "        di += dz3\n",
        "        \n",
        "        dj += dz4*X1\n",
        "        dk += dz4*Y1\n",
        "        dl += dz4\n",
        "        \n",
        "        dz1 = back_sigmoid(dz3, g, z1)\n",
        "        dz1 += back_sigmoid(dz4, j, z1)\n",
        "        \n",
        "        dz2 = back_sigmoid(dz3, h, z2)\n",
        "        dz2 += back_sigmoid(dz4, k, z2)\n",
        "        \n",
        "        da += dz1*x\n",
        "        db += dz1*y\n",
        "        dc += dz1\n",
        "        \n",
        "        dd += dz2*x\n",
        "        de += dz2*y\n",
        "        df += dz2\n",
        "    \n",
        "    a -= eta*da\n",
        "    b -= eta*db\n",
        "    c -= eta*dc\n",
        "    d -= eta*dd\n",
        "    e -= eta*de\n",
        "    f -= eta*df\n",
        "    g -= eta*dg\n",
        "    h -= eta*dh\n",
        "    i -= eta*di\n",
        "    j -= eta*dj\n",
        "    k -= eta*dk\n",
        "    l -= eta*dl\n",
        "    m -= eta*dm\n",
        "    n -= eta*dn\n",
        "    o -= eta*do\n",
        "        \n",
        "print(a,b,c,d,e,f,g,h,i,j,k,l,m,n,o) "
      ]
    },
    {
      "cell_type": "code",
      "execution_count": 6,
      "id": "7cfa39c4-3c77-4173-bf85-3cfd07896ea1",
      "metadata": {
        "colab": {
          "base_uri": "https://localhost:8080/"
        },
        "id": "7cfa39c4-3c77-4173-bf85-3cfd07896ea1",
        "outputId": "4e2e7c1e-85cb-4a87-e15a-df60758370a7"
      },
      "outputs": [
        {
          "output_type": "stream",
          "name": "stdout",
          "text": [
            "-0.9568074785555825\n",
            "-1.0396754987501153\n",
            "-0.0015537339158936403\n",
            "-0.0015765835421799324\n",
            "-0.00043883877480421773\n",
            "-0.0004387982576014027\n"
          ]
        }
      ],
      "source": [
        "def print_z(x, y):\n",
        "    A = sigmoid(node_output(x, y, a, b, c))\n",
        "    B = sigmoid(node_output(x, y, d, e, f))\n",
        "    C = sigmoid(node_output(A, B, g, h, i))\n",
        "    D = sigmoid(node_output(A, B, j, k, l))\n",
        "    z = node_output(C, D, m, n, o)\n",
        "    return print(z)\n",
        "print_z(5,10)\n",
        "print_z(7,18)\n",
        "print_z(10,8)\n",
        "print_z(15,15)\n",
        "print_z(20,3)\n",
        "print_z(23,12)"
      ]
    },
    {
      "cell_type": "code",
      "execution_count": 6,
      "id": "3bae5ded-9fd3-47a6-bb5b-ad1171fd11fa",
      "metadata": {
        "id": "3bae5ded-9fd3-47a6-bb5b-ad1171fd11fa"
      },
      "outputs": [],
      "source": [
        ""
      ]
    },
    {
      "cell_type": "code",
      "execution_count": 6,
      "id": "f1131b9f-330e-4650-8ec0-cb7c2af24291",
      "metadata": {
        "id": "f1131b9f-330e-4650-8ec0-cb7c2af24291"
      },
      "outputs": [],
      "source": [
        ""
      ]
    },
    {
      "cell_type": "code",
      "execution_count": 6,
      "id": "1de99439-4632-44e9-881b-3824234bcabb",
      "metadata": {
        "id": "1de99439-4632-44e9-881b-3824234bcabb"
      },
      "outputs": [],
      "source": [
        ""
      ]
    },
    {
      "cell_type": "code",
      "execution_count": 6,
      "id": "6a1031ad-3ddb-4e99-9252-2791e50bb5e0",
      "metadata": {
        "id": "6a1031ad-3ddb-4e99-9252-2791e50bb5e0"
      },
      "outputs": [],
      "source": [
        ""
      ]
    },
    {
      "cell_type": "markdown",
      "id": "cd32d588-417c-4a93-867a-80ae2e25008f",
      "metadata": {
        "id": "cd32d588-417c-4a93-867a-80ae2e25008f"
      },
      "source": [
        "# 응용문제 - Iris 데이터세트 활용, 분류 문제 적용"
      ]
    },
    {
      "cell_type": "code",
      "execution_count": 7,
      "id": "f16a99bf-d751-4739-9d75-87ce916f3b8c",
      "metadata": {
        "id": "f16a99bf-d751-4739-9d75-87ce916f3b8c"
      },
      "outputs": [],
      "source": [
        "import math\n",
        "import random\n",
        "\n",
        "a_ = random.uniform(-1,1)\n",
        "b_ = random.uniform(-1,1)\n",
        "c_ = random.uniform(-1,1)\n",
        "d_ = random.uniform(-1,1)\n",
        "e_ = random.uniform(-1,1)\n",
        "f_ = random.uniform(-1,1)\n",
        "g_ = random.uniform(-1,1)\n",
        "h_ = random.uniform(-1,1)\n",
        "i_ = random.uniform(-1,1)\n",
        "j_ = random.uniform(-1,1)\n",
        "\n",
        "g = random.uniform(-1,1)\n",
        "h = random.uniform(-1,1)\n",
        "i = random.uniform(-1,1)\n",
        "j = random.uniform(-1,1)\n",
        "k = random.uniform(-1,1)\n",
        "l = random.uniform(-1,1)\n",
        "m = random.uniform(-1,1)\n",
        "n = random.uniform(-1,1)\n",
        "o = random.uniform(-1,1)\n",
        "\n",
        "eta = 0.000005\n",
        "\n",
        "def sigmoid(x):\n",
        "    return 1.0/(1.0+math.exp(-x))\n",
        "\n",
        "def node_output(x, y, a, b, c):\n",
        "    return a*x+b*y+c\n",
        "\n",
        "def node_output2(x1, x2, x3, x4, a, b, c, d, e):\n",
        "    return a*x1+b*x2+c*x3+d*x4+e\n",
        "\n",
        "def back_sigmoid(fore_gredient, para, this_value):\n",
        "    return fore_gredient*para*sigmoid(this_value)*(1.0 - sigmoid(this_value))"
      ]
    },
    {
      "cell_type": "code",
      "execution_count": 8,
      "id": "e23208bc-090f-40f3-87c9-33a5b6744b4c",
      "metadata": {
        "colab": {
          "base_uri": "https://localhost:8080/"
        },
        "id": "e23208bc-090f-40f3-87c9-33a5b6744b4c",
        "outputId": "8a7e615b-d4a5-4328-88cd-a33dc293a6b4"
      },
      "outputs": [
        {
          "output_type": "stream",
          "name": "stdout",
          "text": [
            "total data len: 100 , train len: 80 , test len: 20\n"
          ]
        }
      ],
      "source": [
        "from sklearn.datasets import load_iris\n",
        "import numpy as np\n",
        "iris = load_iris()\n",
        "data = iris.data\n",
        "labels = iris.target\n",
        "\n",
        "labels = np.expand_dims(labels, axis=1)\n",
        "iris = np.concatenate((data, labels), axis=1)\n",
        "\n",
        "iris = iris[(iris[:,4]==0.0) | (iris[:,4]==1.0)] # 2진 분류를 위해 0, 1 데이터만  사용\n",
        "\n",
        "np.random.shuffle(iris)\n",
        "data = iris[:,:4]\n",
        "labels = iris[:,4:].reshape((-1,))\n",
        "\n",
        "test_data = data[-20:]\n",
        "test_labels = labels[-20:]\n",
        "data = data[:-20]\n",
        "labels = labels[:-20]\n",
        "print('total data len:',len(iris.data), ', train len:', len(data), ', test len:',len(test_data))"
      ]
    },
    {
      "cell_type": "code",
      "execution_count": null,
      "id": "ceb46ebf-682a-48ac-8742-1bf897fb93ee",
      "metadata": {
        "colab": {
          "base_uri": "https://localhost:8080/"
        },
        "id": "ceb46ebf-682a-48ac-8742-1bf897fb93ee",
        "outputId": "e8766a80-be26-41c2-c5c9-8a44574e1d6d"
      },
      "outputs": [
        {
          "output_type": "stream",
          "name": "stdout",
          "text": [
            "0 100000 200000 300000 400000 500000 600000 700000 800000 900000 1000000 "
          ]
        }
      ],
      "source": [
        "for counter in range(10000000):\n",
        "    da_=db_=dc_=dd_=de_=df_=dg_=dh_=di_=dj_=0.0\n",
        "    dg=dh=di=dj=dk=dl=dm=dn=do=0.0\n",
        "    if(counter % 100000 == 0):print(counter, end=' ', flush=True)\n",
        "        \n",
        "    for idx in range(len(data)):\n",
        "        x1=float(data[idx][0])\n",
        "        x2=float(data[idx][1])\n",
        "        x3=float(data[idx][2])\n",
        "        x4=float(data[idx][3])\n",
        "        \n",
        "        z1 = node_output2(x1, x2, x3, x4, a_, b_, c_, d_, e_)\n",
        "        z2 = node_output2(x1, x2, x3, x4, f_, g_, h_, i_, j_)\n",
        "        X1 = sigmoid(z1)\n",
        "        Y1 = sigmoid(z2)\n",
        "        z3 = node_output(X1, Y1, g, h, i)\n",
        "        z4 = node_output(X1, Y1, j, k, l)\n",
        "        X2 = sigmoid(z3)\n",
        "        Y2 = sigmoid(z4)\n",
        "        z = node_output(X2, Y2, m, n, o)\n",
        "        \n",
        "        Z = labels[idx]\n",
        "        dz = 2*(z-Z)\n",
        "\n",
        "        dz3 = back_sigmoid(dz, m, z3)\n",
        "        dz4 = back_sigmoid(dz, n, z4)\n",
        "        dm += dz*X2\n",
        "        dn += dz*Y2\n",
        "        do += dz\n",
        "        \n",
        "        dg += dz3*X1\n",
        "        dh += dz3*Y1\n",
        "        di += dz3\n",
        "        \n",
        "        dj += dz4*X1\n",
        "        dk += dz4*Y1\n",
        "        dl += dz4\n",
        "        \n",
        "        dz1 = back_sigmoid(dz3, g, z1)\n",
        "        dz1 += back_sigmoid(dz4, j, z1)\n",
        "        \n",
        "        dz2 = back_sigmoid(dz3, h, z2)\n",
        "        dz2 += back_sigmoid(dz4, k, z2)\n",
        "        \n",
        "        da_ += dz1*x1\n",
        "        db_ += dz1*x2\n",
        "        dc_ += dz1*x3\n",
        "        dd_ += dz1*x4\n",
        "        de_ += dz1\n",
        "        df_ += dz2*x1\n",
        "        dg_ += dz2*x2\n",
        "        dh_ += dz2*x3\n",
        "        di_ += dz2*x4\n",
        "        dj_ += dz2\n",
        "    \n",
        "    a_ -= eta*da_\n",
        "    b_ -= eta*db_\n",
        "    c_ -= eta*dc_\n",
        "    d_ -= eta*dd_\n",
        "    e_ -= eta*de_\n",
        "    f_ -= eta*df_\n",
        "    g_ -= eta*dg_\n",
        "    h_ -= eta*dh_\n",
        "    i_ -= eta*di_\n",
        "    j_ -= eta*dj_\n",
        "    \n",
        "    g -= eta*dg\n",
        "    h -= eta*dh\n",
        "    i -= eta*di\n",
        "    j -= eta*dj\n",
        "    k -= eta*dk\n",
        "    l -= eta*dl\n",
        "    m -= eta*dm\n",
        "    n -= eta*dn\n",
        "    o -= eta*do\n",
        "print('\\n',a_,b_,c_,d_,e_,f_,g_,h_,i_,j_,g,h,i,j,k,l,m,n,o) "
      ]
    },
    {
      "cell_type": "code",
      "execution_count": null,
      "id": "b1a3685d-3d6a-4e35-8e59-79329db8a259",
      "metadata": {
        "id": "b1a3685d-3d6a-4e35-8e59-79329db8a259",
        "outputId": "50905563-7a3e-4509-aeff-6cf27ddb0de1"
      },
      "outputs": [
        {
          "name": "stdout",
          "output_type": "stream",
          "text": [
            "Pred: 0.0 , Real: 0.0\n",
            "Pred: 1.0 , Real: 1.0\n",
            "Pred: 1.0 , Real: 1.0\n",
            "Pred: 1.0 , Real: 1.0\n",
            "Pred: 1.0 , Real: 0.0\n",
            "Pred: 1.0 , Real: 1.0\n",
            "Pred: 1.0 , Real: 0.0\n",
            "Pred: 1.0 , Real: 0.0\n",
            "Pred: 1.0 , Real: 0.0\n",
            "Pred: 1.0 , Real: 0.0\n",
            "Pred: 1.0 , Real: 1.0\n",
            "Pred: 1.0 , Real: 1.0\n",
            "Pred: 1.0 , Real: 0.0\n",
            "Pred: 1.0 , Real: 1.0\n",
            "Pred: 1.0 , Real: 1.0\n",
            "Pred: 1.0 , Real: 1.0\n",
            "Pred: 1.0 , Real: 0.0\n",
            "Pred: 1.0 , Real: 0.0\n",
            "Pred: 1.0 , Real: 1.0\n",
            "Pred: 1.0 , Real: 1.0\n"
          ]
        }
      ],
      "source": [
        "def print_z(x1, x2, x3, x4, y):\n",
        "    z1 = node_output2(x1, x2, x3, x4, a_, b_, c_, d_, e_)\n",
        "    z2 = node_output2(x1, x2, x3, x4, f_, g_, h_, i_, j_)\n",
        "    X1 = sigmoid(z1)\n",
        "    Y1 = sigmoid(z2)\n",
        "    z3 = node_output(X1, Y1, g, h, i)\n",
        "    z4 = node_output(X1, Y1, j, k, l)\n",
        "    X2 = sigmoid(z3)\n",
        "    Y2 = sigmoid(z4)\n",
        "    z = node_output(X2, Y2, m, n, o)    \n",
        "    return print('Pred:',round(z,0), ', Real:',y)\n",
        "\n",
        "for i in range(len(test_data)):\n",
        "    print_z(test_data[i][0], test_data[i][1], test_data[i][2], test_data[i][3], test_labels[i])"
      ]
    },
    {
      "cell_type": "code",
      "execution_count": null,
      "id": "44018dc2-6ed9-41a5-8da5-e32bc558969c",
      "metadata": {
        "id": "44018dc2-6ed9-41a5-8da5-e32bc558969c"
      },
      "outputs": [],
      "source": [
        ""
      ]
    }
  ],
  "metadata": {
    "kernelspec": {
      "display_name": "Python 3",
      "language": "python",
      "name": "python3"
    },
    "language_info": {
      "codemirror_mode": {
        "name": "ipython",
        "version": 3
      },
      "file_extension": ".py",
      "mimetype": "text/x-python",
      "name": "python",
      "nbconvert_exporter": "python",
      "pygments_lexer": "ipython3",
      "version": "3.7.11"
    },
    "colab": {
      "name": "인공지능프로그래밍_딥러닝기초_구현.ipynb",
      "provenance": [],
      "include_colab_link": true
    }
  },
  "nbformat": 4,
  "nbformat_minor": 5
}