{
  "nbformat": 4,
  "nbformat_minor": 0,
  "metadata": {
    "colab": {
      "name": "Recommender System.ipynb",
      "private_outputs": true,
      "provenance": [],
      "mount_file_id": "1-nWmZOKpc-JyL76Hnsdz_Q1FLgs3pE75",
      "authorship_tag": "ABX9TyOZg1iZyxCBCWQOIOyIHUgd",
      "include_colab_link": true
    },
    "kernelspec": {
      "name": "python3",
      "display_name": "Python 3"
    },
    "language_info": {
      "name": "python"
    }
  },
  "cells": [
    {
      "cell_type": "markdown",
      "metadata": {
        "id": "view-in-github",
        "colab_type": "text"
      },
      "source": [
        "<a href=\"https://colab.research.google.com/github/hyoh79/ML/blob/main/Recommender_System.ipynb\" target=\"_parent\"><img src=\"https://colab.research.google.com/assets/colab-badge.svg\" alt=\"Open In Colab\"/></a>"
      ]
    },
    {
      "cell_type": "code",
      "execution_count": null,
      "metadata": {
        "id": "Ght78J0s1Xv2"
      },
      "outputs": [],
      "source": [
        "import pandas as pd\n",
        "u_cols=['user_id','age','sex','occupation','zip_code']"
      ]
    },
    {
      "cell_type": "code",
      "source": [
        "from google.colab import drive\n",
        "drive.mount('/content/drive', force_remount=True)\n",
        "!cd \"/content/drive\"\n",
        "#!cd \"/content/drive/My Drive/Example\"\n",
        "\n",
        "#df = pd.read_csv('파일명')\n",
        "users=pd.read_csv('u.user',sep='|',names=u_cols)"
      ],
      "metadata": {
        "id": "7FSKJ4mP511k"
      },
      "execution_count": null,
      "outputs": []
    },
    {
      "cell_type": "code",
      "source": [
        "users=users.set_index('user_id')\n",
        "users.head()"
      ],
      "metadata": {
        "id": "Xs5FflwQ6Nuc"
      },
      "execution_count": null,
      "outputs": []
    },
    {
      "cell_type": "code",
      "source": [
        ""
      ],
      "metadata": {
        "id": "HEgpNCrEA80g"
      },
      "execution_count": null,
      "outputs": []
    }
  ]
}