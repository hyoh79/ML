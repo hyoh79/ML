{
  "nbformat": 4,
  "nbformat_minor": 0,
  "metadata": {
    "colab": {
      "name": "Chap.2(Regression1).ipynb",
      "private_outputs": true,
      "provenance": [],
      "authorship_tag": "ABX9TyNA6J9JK2BJXoHqk7R5dDIV",
      "include_colab_link": true
    },
    "kernelspec": {
      "name": "python3",
      "display_name": "Python 3"
    },
    "language_info": {
      "name": "python"
    }
  },
  "cells": [
    {
      "cell_type": "markdown",
      "metadata": {
        "id": "view-in-github",
        "colab_type": "text"
      },
      "source": [
        "<a href=\"https://colab.research.google.com/github/hyoh79/ML/blob/main/Chap_2(Regression1).ipynb\" target=\"_parent\"><img src=\"https://colab.research.google.com/assets/colab-badge.svg\" alt=\"Open In Colab\"/></a>"
      ]
    },
    {
      "cell_type": "code",
      "metadata": {
        "id": "zJuVXG_Nlwv7"
      },
      "source": [
        "!pip install mglearn\n",
        "import mglearn\n"
      ],
      "execution_count": null,
      "outputs": []
    },
    {
      "cell_type": "code",
      "metadata": {
        "id": "c7FsdS0hl9vt"
      },
      "source": [
        "# 데이터셋 만들기\n",
        "X,y=mglearn.datasets.make_wave(n_samples=40)"
      ],
      "execution_count": null,
      "outputs": []
    },
    {
      "cell_type": "code",
      "metadata": {
        "id": "JY24msMMmVS4"
      },
      "source": [
        "# 각 변수 출력, 변수 크기 출력, 변수 타입 출력\n",
        "X"
      ],
      "execution_count": null,
      "outputs": []
    },
    {
      "cell_type": "code",
      "metadata": {
        "id": "rGEay_54mgeW"
      },
      "source": [
        "X.shape\n",
        "type(X)"
      ],
      "execution_count": null,
      "outputs": []
    },
    {
      "cell_type": "code",
      "metadata": {
        "id": "HxfWYv8Mmj-_"
      },
      "source": [
        "y"
      ],
      "execution_count": null,
      "outputs": []
    },
    {
      "cell_type": "code",
      "metadata": {
        "id": "06VMF9kNmqpH"
      },
      "source": [
        "y.shape"
      ],
      "execution_count": null,
      "outputs": []
    },
    {
      "cell_type": "code",
      "metadata": {
        "id": "aqa425A0ms3q"
      },
      "source": [
        "import matplotlib.pyplot as plt \n",
        "plt.plot(X,y,'o')"
      ],
      "execution_count": null,
      "outputs": []
    },
    {
      "cell_type": "code",
      "metadata": {
        "id": "OXuGm4fSm47a"
      },
      "source": [
        "plt.plot(X,y,'*')"
      ],
      "execution_count": null,
      "outputs": []
    },
    {
      "cell_type": "code",
      "metadata": {
        "id": "U12x6iN5m9TM"
      },
      "source": [
        "plt.plot(X,y,'+')"
      ],
      "execution_count": null,
      "outputs": []
    },
    {
      "cell_type": "code",
      "metadata": {
        "id": "3KweDCjrgNPl"
      },
      "source": [
        "!sudo apt-get install -y fonts-naum\n",
        "!sudo fc-cache -fv\n",
        "!rm ~/.cache/matplotlib -rf\n",
        "\n"
      ],
      "execution_count": null,
      "outputs": []
    },
    {
      "cell_type": "code",
      "metadata": {
        "id": "71zgpa8mgeyv"
      },
      "source": [
        "import matplotlib.pyplot as plt \n",
        "\n",
        "plt.rc('font', family='NanumBarunGothic')"
      ],
      "execution_count": null,
      "outputs": []
    },
    {
      "cell_type": "code",
      "metadata": {
        "id": "RzzWJb64nRBn"
      },
      "source": [
        "# # 한글폰트 사용 in colab\n",
        "# %matplotlib inline  \n",
        "\n",
        "# import matplotlib as mpl \n",
        "# import matplotlib.pyplot as plt \n",
        "# import matplotlib.font_manager as fm  \n",
        "\n",
        "# !apt-get update -qq\n",
        "# !apt-get install fonts-nanum* -qq\n",
        "\n",
        "# path = '/usr/share/fonts/truetype/nanum/NanumBarunGothic.ttf' \n",
        "# font_name = fm.FontProperties(fname=path, size=10).get_name()\n",
        "# print(font_name)\n",
        "# plt.rc('font', family=font_name)\n",
        "\n",
        "# fm._rebuild()\n",
        "# mpl.rcParams['axes.unicode_minus'] = False"
      ],
      "execution_count": null,
      "outputs": []
    },
    {
      "cell_type": "code",
      "metadata": {
        "id": "e7cOIHBXm-za"
      },
      "source": [
        "plt.plot(X,y,'o')\n",
        "plt.ylim(-3,3)\n",
        "plt.xlabel(\"특성\")\n",
        "plt.ylabel(\"타깃\")"
      ],
      "execution_count": null,
      "outputs": []
    },
    {
      "cell_type": "code",
      "metadata": {
        "id": "k2bs6bEenKXi"
      },
      "source": [
        ""
      ],
      "execution_count": null,
      "outputs": []
    }
  ]
}