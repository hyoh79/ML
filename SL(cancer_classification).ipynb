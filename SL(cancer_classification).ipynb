{
  "nbformat": 4,
  "nbformat_minor": 0,
  "metadata": {
    "colab": {
      "name": "SL(cancer classification).ipynb",
      "private_outputs": true,
      "provenance": [],
      "authorship_tag": "ABX9TyOySrDZuUtcLjc893nOl0ip",
      "include_colab_link": true
    },
    "kernelspec": {
      "name": "python3",
      "display_name": "Python 3"
    },
    "language_info": {
      "name": "python"
    }
  },
  "cells": [
    {
      "cell_type": "markdown",
      "metadata": {
        "id": "view-in-github",
        "colab_type": "text"
      },
      "source": [
        "<a href=\"https://colab.research.google.com/github/hyoh79/ML/blob/main/SL(cancer_classification).ipynb\" target=\"_parent\"><img src=\"https://colab.research.google.com/assets/colab-badge.svg\" alt=\"Open In Colab\"/></a>"
      ]
    },
    {
      "cell_type": "code",
      "metadata": {
        "id": "HAOVLjfbuiOq"
      },
      "source": [
        "from sklearn.datasets import load_breast_cancer\n",
        "cancer=load_breast_cancer()\n",
        "print(\"cancer.keys():\\n\",cancer.keys())"
      ],
      "execution_count": null,
      "outputs": []
    },
    {
      "cell_type": "code",
      "metadata": {
        "id": "7cUpttaEvu28"
      },
      "source": [
        "print(\"유방암 데이터의 형태:\",cancer.data.shape)"
      ],
      "execution_count": null,
      "outputs": []
    },
    {
      "cell_type": "code",
      "metadata": {
        "id": "Inssj4Vav7H3"
      },
      "source": [
        "import numpy as np\n",
        "print(\"클래스별 샘플 개수:\\n\",{n:v for n,v in zip(cancer.target_names,np.bincount(cancer.target))})"
      ],
      "execution_count": null,
      "outputs": []
    },
    {
      "cell_type": "code",
      "metadata": {
        "id": "Tc39uhkN0HNT"
      },
      "source": [
        "print(\"특성 이름:\\n\",cancer.feature_names)"
      ],
      "execution_count": null,
      "outputs": []
    },
    {
      "cell_type": "code",
      "metadata": {
        "id": "d_uyPOUf0o06"
      },
      "source": [
        "print(\"데이터 정보:\\n\",cancer.DESCR)"
      ],
      "execution_count": null,
      "outputs": []
    },
    {
      "cell_type": "code",
      "metadata": {
        "id": "fvOoTX4k08j0"
      },
      "source": [
        "print(cancer['data'][:5])"
      ],
      "execution_count": null,
      "outputs": []
    },
    {
      "cell_type": "code",
      "metadata": {
        "id": "UK7CJzyi3JLg"
      },
      "source": [
        ""
      ],
      "execution_count": null,
      "outputs": []
    }
  ]
}