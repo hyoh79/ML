{
  "nbformat": 4,
  "nbformat_minor": 0,
  "metadata": {
    "colab": {
      "name": "SL(cancer classification).ipynb",
      "private_outputs": true,
      "provenance": [],
      "collapsed_sections": [],
      "authorship_tag": "ABX9TyMYrSdVDTjR33wOb1I6rATF",
      "include_colab_link": true
    },
    "kernelspec": {
      "name": "python3",
      "display_name": "Python 3"
    },
    "language_info": {
      "name": "python"
    }
  },
  "cells": [
    {
      "cell_type": "markdown",
      "metadata": {
        "id": "view-in-github",
        "colab_type": "text"
      },
      "source": [
        "<a href=\"https://colab.research.google.com/github/hyoh79/ML/blob/main/SL(cancer_classification).ipynb\" target=\"_parent\"><img src=\"https://colab.research.google.com/assets/colab-badge.svg\" alt=\"Open In Colab\"/></a>"
      ]
    },
    {
      "cell_type": "code",
      "metadata": {
        "id": "HAOVLjfbuiOq"
      },
      "source": [
        "from sklearn.datasets import load_breast_cancer\n",
        "cancer=load_breast_cancer()\n",
        "print(\"cancer.keys():\\n\",cancer.keys())"
      ],
      "execution_count": null,
      "outputs": []
    },
    {
      "cell_type": "code",
      "metadata": {
        "id": "7cUpttaEvu28"
      },
      "source": [
        "print(\"유방암 데이터의 형태:\",cancer.data.shape)\n",
        "print(\"유방암 데이터의 형태(또 다른 명령어 표현)\", cancer['data'].shape)\n",
        "print(\"유방암 데이터의 타입:\", type(cancer)) # load_breat_cancer( )가 반환한 cancer 객체는 파이썬 딕셔너리와 유사한 Bunch 클래스의 객체로 키(keys)와 값(value)으로 구성되어 있기 때문"
      ],
      "execution_count": null,
      "outputs": []
    },
    {
      "cell_type": "code",
      "metadata": {
        "id": "Inssj4Vav7H3"
      },
      "source": [
        "import numpy as np\n",
        "print(\"클래스별 샘플 개수:\\n\",{n:v for n,v in zip(cancer.target_names,np.bincount(cancer.target))})"
      ],
      "execution_count": null,
      "outputs": []
    },
    {
      "cell_type": "code",
      "metadata": {
        "id": "Tc39uhkN0HNT"
      },
      "source": [
        "print(\"특성 이름:\\n\",cancer.feature_names)"
      ],
      "execution_count": null,
      "outputs": []
    },
    {
      "cell_type": "code",
      "metadata": {
        "id": "d_uyPOUf0o06"
      },
      "source": [
        "print(\"데이터 정보:\\n\",cancer.DESCR)"
      ],
      "execution_count": null,
      "outputs": []
    },
    {
      "cell_type": "code",
      "metadata": {
        "id": "fvOoTX4k08j0"
      },
      "source": [
        "print(cancer.data.shape)\n",
        "print(cancer['feature_names'])\n",
        "print(cancer['data'][:5])"
      ],
      "execution_count": null,
      "outputs": []
    },
    {
      "cell_type": "code",
      "metadata": {
        "id": "2sRt3tw255Hz"
      },
      "source": [
        "print(cancer['target'])\n",
        "print(type(cancer['target']))\n",
        "print(cancer.target.shape)"
      ],
      "execution_count": null,
      "outputs": []
    },
    {
      "cell_type": "code",
      "metadata": {
        "id": "UK7CJzyi3JLg"
      },
      "source": [
        "# from sklearn.model_selection import train_test_split\n",
        "# X_train, X_test, y_train, y_test = train_test_split(cancer.data, cancer.target, stratify=cancer.target, random_state=66)\n",
        "\n",
        "from sklearn.model_selection import train_test_split\n",
        "X_train, X_test, y_train, y_test = train_test_split(cancer['data'],cancer['target'],stratify=cancer.target,random_state=66)"
      ],
      "execution_count": null,
      "outputs": []
    },
    {
      "cell_type": "code",
      "metadata": {
        "id": "5R7X1A8OIaxH"
      },
      "source": [
        "training_accuracy=[]\n",
        "test_accuracy=[]\n",
        "\n",
        "neighbors_settings=range(1,11) #1에서 10까지 n_neighbors를 적용\n",
        "\n",
        "## [Algorithm#1: kNN for classification]\n",
        "from sklearn.neighbors import KNeighborsClassifier\n",
        "for n_neighbors in neighbors_settings:\n",
        "  clf=KNeighborsClassifier(n_neighbors=n_neighbors)\n",
        "  clf.fit(X_train, y_train)\n",
        "  training_accuracy.append(clf.score(X_train,y_train))\n",
        "  test_accuracy.append(clf.score(X_test,y_test))"
      ],
      "execution_count": null,
      "outputs": []
    },
    {
      "cell_type": "code",
      "metadata": {
        "id": "0XrwIKvGUGRt"
      },
      "source": [
        "import matplotlib.pylab as plt\n",
        "plt.plot(neighbors_settings,training_accuracy,label=\"Trainig Accuracy\")\n",
        "plt.plot(neighbors_settings, test_accuracy, label=\"Test Accuracy\")\n",
        "plt.ylabel(\"accuracy\")\n",
        "plt.xlabel(\"# of neighbors\")\n",
        "plt.legend()\n",
        "# 이웃을 하나 선택했을때 결정경계가 훈련 데이터에 가깝게 따라감(복잡한 모델, 과대적합). \n",
        "# 이웃의 수를 늘릴수록 결정 경계는 더 부드러워짐(단순한 모델을 의미).\n",
        "# cancer dataset으로 kNN에서 이웃의 수를 변화시켜보면서 모델의 복잡도와 일반화 사이의 관계를 입증해볼 수 있음."
      ],
      "execution_count": null,
      "outputs": []
    },
    {
      "cell_type": "code",
      "metadata": {
        "id": "hEjbqRNQhzYU"
      },
      "source": [
        "## [Algorithm#2: Logistic Regression for classification]\n",
        "\n",
        "from sklearn.linear_model import LogisticRegression\n",
        "logreg=LogisticRegression(max_iter=5000).fit(X_train,y_train)\n",
        "\n",
        "print(\"훈련 세트 점수: {:.3f}\".format(logreg.score(X_train, y_train)))\n",
        "print(\"테스트 세트 점수: {:.3f}\".format(logreg.score(X_test,y_test)))\n",
        "# 기본값 C=1이 훈련세트와 테스트 세트 양쪽에 95% 정확도로 꽤 훌륭한 성능을 내고 있지만\n",
        "# 훈련세트와 테스트 세트의 성능이 매우 비슷 (과소적합)--> 해결책(모델의 제약/규제을 더 풀어주기 위해 C를 증가시켜볼것!)"
      ],
      "execution_count": null,
      "outputs": []
    },
    {
      "cell_type": "code",
      "metadata": {
        "id": "nVwZRoh696wb"
      },
      "source": [
        "\n",
        "logreg100=LogisticRegression(C=100,max_iter=5000).fit(X_train,y_train) # C를 증가시킴(복잡도를 높인 모델, 성능이 좋음)\n",
        "\n",
        "print(\"훈련 세트 점수: {:.3f}\".format(logreg.score(X_train, y_train)))\n",
        "print(\"테스트 세트 점수: {:.3f}\".format(logreg.score(X_test,y_test)))"
      ],
      "execution_count": null,
      "outputs": []
    },
    {
      "cell_type": "code",
      "metadata": {
        "id": "wcY-jRqE-DQG"
      },
      "source": [
        "\n",
        "logreg001=LogisticRegression(C=0.01,max_iter=50000).fit(X_train,y_train) \n",
        "# C를 감소시킴.(규제를 높인 모델, 이미 과소적합된 모델에서 규제를 더 높였기에 기본 매개변수 C=1일때보다 성능이 낮아짐)\n",
        "\n",
        "print(\"훈련 세트 점수: {:.3f}\".format(logreg.score(X_train, y_train)))\n",
        "print(\"테스트 세트 점수: {:.3f}\".format(logreg.score(X_test,y_test)))"
      ],
      "execution_count": null,
      "outputs": []
    },
    {
      "cell_type": "code",
      "metadata": {
        "id": "2Nb6EThtXNyl"
      },
      "source": [
        "import matplotlib.pyplot as plt\n",
        "plt.plot"
      ],
      "execution_count": null,
      "outputs": []
    },
    {
      "cell_type": "code",
      "metadata": {
        "id": "4DjmFCdD9W7y"
      },
      "source": [
        ""
      ],
      "execution_count": null,
      "outputs": []
    },
    {
      "cell_type": "code",
      "metadata": {
        "id": "ipAuFbL_6C9s"
      },
      "source": [
        ""
      ],
      "execution_count": null,
      "outputs": []
    }
  ]
}