{
  "nbformat": 4,
  "nbformat_minor": 0,
  "metadata": {
    "colab": {
      "name": "USL_SL(cancer classification).ipynb",
      "private_outputs": true,
      "provenance": [],
      "authorship_tag": "ABX9TyMRQlf3Qqi9qKrkFWLSoGK+",
      "include_colab_link": true
    },
    "kernelspec": {
      "name": "python3",
      "display_name": "Python 3"
    },
    "language_info": {
      "name": "python"
    }
  },
  "cells": [
    {
      "cell_type": "markdown",
      "metadata": {
        "id": "view-in-github",
        "colab_type": "text"
      },
      "source": [
        "<a href=\"https://colab.research.google.com/github/hyoh79/ML/blob/main/USL_SL(cancer_classification).ipynb\" target=\"_parent\"><img src=\"https://colab.research.google.com/assets/colab-badge.svg\" alt=\"Open In Colab\"/></a>"
      ]
    },
    {
      "cell_type": "code",
      "metadata": {
        "id": "7eaRqx7rz1Im"
      },
      "source": [
        "# Unsupervised Learning (data preprocessing-MinMaxScaler example)\n",
        "\n",
        "from sklearn.datasets import load_breast_cancer\n",
        "from sklearn.model_selection import train_test_split\n",
        "cancer=load_breast_cancer()\n",
        "\n",
        "X_train,X_test,y_train,y_test=train_test_split(cancer.data,cancer.target,random_state=1)\n",
        "\n",
        "print(X_train.shape)\n",
        "print(X_test.shape)"
      ],
      "execution_count": null,
      "outputs": []
    },
    {
      "cell_type": "code",
      "metadata": {
        "id": "5LmTS-BD2O-K"
      },
      "source": [
        "# 1) train dataset - 스케일 조정 전 특성별 최소값, 최대값\n",
        "print(\"특성별 최솟값\\n\", X_train.min(axis=0))\n",
        "print(\"특성별 최댓값\\n\", X_train.max(axis=0))"
      ],
      "execution_count": null,
      "outputs": []
    },
    {
      "cell_type": "code",
      "metadata": {
        "id": "sv6SyeSD0pss"
      },
      "source": [
        "from sklearn.preprocessing import MinMaxScaler\n",
        "scaler=MinMaxScaler()\n",
        "scaler.fit(X_train)\n",
        "X_train_scaled=scaler.transform(X_train)\n"
      ],
      "execution_count": null,
      "outputs": []
    },
    {
      "cell_type": "code",
      "metadata": {
        "id": "HrHNH_S62Dxf"
      },
      "source": [
        "# 2) train dataset -  스케일 조정 후 특성별 최소값, 최대값\n",
        "print(\"특성별 최솟값\\n\", X_train_scaled.min(axis=0))\n",
        "print(\"특성별 최댓값\\n\", X_train_scaled.max(axis=0))"
      ],
      "execution_count": null,
      "outputs": []
    },
    {
      "cell_type": "code",
      "metadata": {
        "id": "6b1rnCs42gG2"
      },
      "source": [
        "# 3) test dataset -  스케일 조정 후 특성별 최소값, 최대값\n",
        "X_test_scaled=scaler.transform(X_test)\n",
        "print(\"특성별 최솟값\\n\", X_test_scaled.min(axis=0))\n",
        "print(\"특성별 최댓값\\n\", X_test_scaled.max(axis=0))"
      ],
      "execution_count": null,
      "outputs": []
    },
    {
      "cell_type": "code",
      "metadata": {
        "id": "YNkLJMmq3r-6"
      },
      "source": [
        "## [Algorithm: (kernel) SVC for classification]\n",
        "from sklearn.svm import SVC\n",
        "svc=SVC()\n",
        "svc.fit(X_train_scaled, y_train)\n",
        "\n",
        "print(\"훈련 세트 정확도: {:.3f}\".format(svc.score(X_train_scaled,y_train)))\n",
        "print(\"테스트 세트 정확도: {:.3f}\".format(svc.score(X_test_scaled,y_test)))\n"
      ],
      "execution_count": null,
      "outputs": []
    },
    {
      "cell_type": "code",
      "metadata": {
        "id": "G-ah7sbG4PNE"
      },
      "source": [
        ""
      ],
      "execution_count": null,
      "outputs": []
    }
  ]
}