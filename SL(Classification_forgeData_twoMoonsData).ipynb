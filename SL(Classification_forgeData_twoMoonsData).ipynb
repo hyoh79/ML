{
  "nbformat": 4,
  "nbformat_minor": 0,
  "metadata": {
    "colab": {
      "name": "SL(Classification_forgeData_twoMoonsData).ipynb",
      "private_outputs": true,
      "provenance": [],
      "collapsed_sections": [],
      "authorship_tag": "ABX9TyN3IlWo+KroDAHs9OwPcG4N",
      "include_colab_link": true
    },
    "kernelspec": {
      "name": "python3",
      "display_name": "Python 3"
    },
    "language_info": {
      "name": "python"
    }
  },
  "cells": [
    {
      "cell_type": "markdown",
      "metadata": {
        "id": "view-in-github",
        "colab_type": "text"
      },
      "source": [
        "<a href=\"https://colab.research.google.com/github/hyoh79/ML/blob/main/SL(Classification_forgeData_twoMoonsData).ipynb\" target=\"_parent\"><img src=\"https://colab.research.google.com/assets/colab-badge.svg\" alt=\"Open In Colab\"/></a>"
      ]
    },
    {
      "cell_type": "code",
      "metadata": {
        "id": "PqAdE9LG-Qfb"
      },
      "source": [
        "from sklearn.linear_model import LogisticRegression\n",
        "from sklearn.svm import LinearSVC\n",
        "\n",
        "!pip install mglearn\n",
        "import mglearn\n",
        "X,y=mglearn.datasets.make_forge()"
      ],
      "execution_count": null,
      "outputs": []
    },
    {
      "cell_type": "code",
      "metadata": {
        "id": "4XnYpA6p-zAG"
      },
      "source": [
        "import matplotlib.pyplot as plt\n",
        "fig, axes=plt.subplots(1,2,figsize=(10,3))\n",
        "\n",
        "for model, ax in zip([LogisticRegression(),LinearSVC()],axes):\n",
        "  clf=model.fit(X,y)\n",
        "  mglearn.plots.plot_2d_separator(clf,X,fill=False,eps=0.5,ax=ax,alpha=.7)\n",
        "  mglearn.discrete_scatter(X[:,0],X[:,1],y,ax=ax)\n",
        "  ax.set_title(clf.__class__.__name__)\n",
        "  ax.set_xlabel(\"First Feature\")\n",
        "  ax.set_ylabel(\"Second Feature\")\n",
        "axes[0].legend()  "
      ],
      "execution_count": null,
      "outputs": []
    },
    {
      "cell_type": "code",
      "metadata": {
        "id": "X-Qc6wcswscb"
      },
      "source": [
        "from sklearn.svm import SVC\n",
        "X,y=mglearn.tools.make_handcrafted_dataset() # forge dataset이라고 보시면 됩니다:)\n",
        "svm=SVC(kernel='rbf',C=10,gamma=0.1).fit(X,y)\n",
        "mglearn.plots.plot_2d_separator(svm,X,eps=.5)\n",
        "\n",
        "# 데이터 포인트 그리기\n",
        "mglearn.discrete_scatter(X[:,0],X[:,1],y)\n",
        "\n"
      ],
      "execution_count": null,
      "outputs": []
    },
    {
      "cell_type": "code",
      "metadata": {
        "id": "aXtX-LV2K8yC"
      },
      "source": [
        ""
      ],
      "execution_count": null,
      "outputs": []
    },
    {
      "cell_type": "code",
      "metadata": {
        "id": "qq-KkDlHLRrS"
      },
      "source": [
        "# SVM\n",
        "sv=svm.support_vectors_ # 결정경계(두 클래스를 잘 구분하는 선)를 만드는데 영향을 높게 준 데이터 포인트들 (support vector) :)\n",
        "print(\"sv=\",sv)\n",
        "# dual_coef_의 부호에 의해 서포트 벡터의 클래스 레이블이 결정됨.\n",
        "sv_labels = svm.dual_coef_.ravel()>0 # support vector의 중요도는 dual_coef_ 속성에 저장됨.\n",
        "print(\"sv_labels=\",sv_labels)\n",
        "mglearn.discrete_scatter(sv[:,0],sv[:,1],sv_labels,s=15,markeredgewidth=3)\n",
        "plt.title(svm.__class__.__name__)\n",
        "plt.xlabel(\"Feature 0\")\n",
        "plt.ylabel(\"Feature 1\")"
      ],
      "execution_count": null,
      "outputs": []
    },
    {
      "cell_type": "code",
      "metadata": {
        "id": "3NqqNBHbOw2-"
      },
      "source": [
        "from sklearn.svm import SVC\n",
        "X,y=mglearn.tools.make_handcrafted_dataset() # forge dataset이라고 보시면 됩니다:)\n",
        "svm=SVC(kernel='rbf',C=10,gamma=0.1).fit(X,y)\n",
        "mglearn.plots.plot_2d_separator(svm,X,eps=.5)\n",
        "\n",
        "# 데이터 포인트 그리기\n",
        "mglearn.discrete_scatter(X[:,0],X[:,1],y)\n",
        "\n",
        "# SVM\n",
        "sv=svm.support_vectors_ # 결정경계(두 클래스를 잘 구분하는 선)를 만드는데 영향을 높게 준 데이터 포인트들 (support vector) :)\n",
        "print(\"sv=\",sv)\n",
        "# dual_coef_의 부호에 의해 서포트 벡터의 클래스 레이블이 결정됨.\n",
        "sv_labels = svm.dual_coef_.ravel()>0 # support vector의 중요도는 dual_coef_ 속성에 저장됨.\n",
        "print(\"sv_labels=\",sv_labels)\n",
        "mglearn.discrete_scatter(sv[:,0],sv[:,1],sv_labels,s=15,markeredgewidth=3)\n",
        "plt.title(svm.__class__.__name__)\n",
        "plt.xlabel(\"Feature 0\")\n",
        "plt.ylabel(\"Feature 1\")"
      ],
      "execution_count": null,
      "outputs": []
    },
    {
      "cell_type": "code",
      "metadata": {
        "id": "uRsOzMbLvy3E"
      },
      "source": [
        "fig,axes=plt.subplots(3,3,figsize=(15,10))\n",
        "\n",
        "for ax, C in zip(axes,[-1,0,13]):\n",
        "  for a, gamma in zip(ax,range(-1,2)):\n",
        "    mglearn.plots.plot_svm(log_C=C, log_gamma=gamma, ax=a)\n",
        "\n",
        "axes[0,0].legend([\"class 0\",\"class 1\",\"class 0 support vector\",\"class 1 support vector\"],ncol=4,loc=(.9,1.2))"
      ],
      "execution_count": null,
      "outputs": []
    },
    {
      "cell_type": "code",
      "metadata": {
        "id": "9iqeJ9A11fA8"
      },
      "source": [
        "from sklearn.ensemble import RandomForestClassifier\n"
      ],
      "execution_count": null,
      "outputs": []
    },
    {
      "cell_type": "code",
      "metadata": {
        "id": "M7eUEjHTbMNu"
      },
      "source": [
        "from sklearn.model_selection import train_test_split\n",
        "X_train, X_test, y_train, y_test=train_test_split(X,y,stratify=y,random_state=42)\n",
        "\n",
        "forest=RandomForestClassifier(n_estimators=5, random_state=2)\n",
        "forest.fit(X_train,y_train)"
      ],
      "execution_count": null,
      "outputs": []
    },
    {
      "cell_type": "code",
      "metadata": {
        "id": "O8Uc815BaMws"
      },
      "source": [
        "forest"
      ],
      "execution_count": null,
      "outputs": []
    },
    {
      "cell_type": "code",
      "metadata": {
        "id": "8MKaBO7RbXeM"
      },
      "source": [
        "X_train"
      ],
      "execution_count": null,
      "outputs": []
    },
    {
      "cell_type": "code",
      "metadata": {
        "id": "bRMVKhOkbZee"
      },
      "source": [
        "y_train"
      ],
      "execution_count": null,
      "outputs": []
    },
    {
      "cell_type": "code",
      "metadata": {
        "id": "IHmg1B3Cbb5P"
      },
      "source": [
        "fig,axes=plt.subplots(2,3,figsize=(20,10))"
      ],
      "execution_count": null,
      "outputs": []
    },
    {
      "cell_type": "code",
      "metadata": {
        "id": "6Av5exTjbpH0"
      },
      "source": [
        "fig,axes=plt.subplots(2,3,figsize=(20,10))\n",
        "for i,(ax,tree) in enumerate(zip(axes.ravel(), forest.estimators_)):\n",
        "  ax.set_title(\"Tree {}\".format(i))\n",
        "  mglearn.plots.plot_tree_partition(X,y,tree,ax=ax)\n",
        "\n",
        "mglearn.plots.plot_2d_separator(forest,X,fill=True,ax=axes[-1,-1],alpha=.4)\n",
        "axes[-1,-1].set_title(\"Random Forest\")\n",
        "mglearn.discrete_scatter(X[:,0],X[:,1],y)"
      ],
      "execution_count": null,
      "outputs": []
    },
    {
      "cell_type": "code",
      "metadata": {
        "id": "IJer67GdefNe"
      },
      "source": [
        ""
      ],
      "execution_count": null,
      "outputs": []
    },
    {
      "cell_type": "code",
      "metadata": {
        "id": "dTi2M8yKcT1m"
      },
      "source": [
        ""
      ],
      "execution_count": null,
      "outputs": []
    },
    {
      "cell_type": "code",
      "metadata": {
        "id": "-gy5nizte1z_"
      },
      "source": [
        ""
      ],
      "execution_count": null,
      "outputs": []
    },
    {
      "cell_type": "code",
      "metadata": {
        "id": "oFFClBnxf_OR"
      },
      "source": [
        "# two_moons 데이터셋을 가지고 트리 5개로 구성된 Random Forest model\n",
        "from sklearn.datasets import make_moons"
      ],
      "execution_count": null,
      "outputs": []
    },
    {
      "cell_type": "code",
      "metadata": {
        "id": "ouJabMeTe-Zy"
      },
      "source": [
        "X,y=make_moons(n_samples=100,noise=0.25, random_state=3)\n",
        "X_train, X_test, y_train, y_test=train_test_split(X,y,stratify=y,random_state=42)\n",
        "\n",
        "forest=RandomForestClassifier(n_estimators=5, random_state=2)\n",
        "forest.fit(X_train,y_train)"
      ],
      "execution_count": null,
      "outputs": []
    },
    {
      "cell_type": "code",
      "metadata": {
        "id": "EXF5_aFof0Cu"
      },
      "source": [
        "# 다섯 개의 랜덤한 결정 트리의 결정 경계와 예측한 확률을 평균내어 만든 결정 경계\n",
        "fig,axes=plt.subplots(2,3,figsize=(20,10))\n",
        "for i,(ax,tree) in enumerate(zip(axes.ravel(), forest.estimators_)):\n",
        "  ax.set_title(\"Tree {}\".format(i))\n",
        "  mglearn.plots.plot_tree_partition(X,y,tree,ax=ax)\n",
        "\n",
        "mglearn.plots.plot_2d_separator(forest,X,fill=True,ax=axes[-1,-1],alpha=.4)\n",
        "axes[-1,-1].set_title(\"Random Forest\")\n",
        "mglearn.discrete_scatter(X[:,0],X[:,1],y)\n",
        "# Random Forest는 개개의 트리보다 덜 과대적합되고 훨씬 좋은 결정 경계를 생성.\n",
        "# 실제 application에서는 매우 많은 트리(예: 수백, 수천 개)를 사용하기 때문에 더 부드러운 결정 경계가 생성됨."
      ],
      "execution_count": null,
      "outputs": []
    },
    {
      "cell_type": "code",
      "metadata": {
        "id": "zjQB3QkYglNZ"
      },
      "source": [
        ""
      ],
      "execution_count": null,
      "outputs": []
    }
  ]
}