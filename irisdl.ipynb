{
  "nbformat": 4,
  "nbformat_minor": 0,
  "metadata": {
    "colab": {
      "private_outputs": true,
      "provenance": [],
      "authorship_tag": "ABX9TyO0Ge0OY1FQWeXavp0dHrQu",
      "include_colab_link": true
    },
    "kernelspec": {
      "name": "python3",
      "display_name": "Python 3"
    },
    "language_info": {
      "name": "python"
    }
  },
  "cells": [
    {
      "cell_type": "markdown",
      "metadata": {
        "id": "view-in-github",
        "colab_type": "text"
      },
      "source": [
        "<a href=\"https://colab.research.google.com/github/hyoh79/ML/blob/main/irisdl.ipynb\" target=\"_parent\"><img src=\"https://colab.research.google.com/assets/colab-badge.svg\" alt=\"Open In Colab\"/></a>"
      ]
    },
    {
      "cell_type": "code",
      "execution_count": null,
      "metadata": {
        "id": "GtqmgKOWXlMu"
      },
      "outputs": [],
      "source": [
        "from sklearn import datasets \n",
        "\n",
        "iris_data=datasets.load_iris()\n",
        "input_data=iris_data.data\n",
        "correct=iris_data.target\n",
        "n_data=len(correct)"
      ]
    },
    {
      "cell_type": "code",
      "source": [
        "iris_data"
      ],
      "metadata": {
        "id": "Md50kUy6YHi0"
      },
      "execution_count": null,
      "outputs": []
    },
    {
      "cell_type": "code",
      "source": [
        "input_data"
      ],
      "metadata": {
        "id": "BQkQjbg-YSXt"
      },
      "execution_count": null,
      "outputs": []
    },
    {
      "cell_type": "code",
      "source": [
        "correct"
      ],
      "metadata": {
        "id": "3JaemNXZYX9q"
      },
      "execution_count": null,
      "outputs": []
    },
    {
      "cell_type": "code",
      "source": [
        "n_data"
      ],
      "metadata": {
        "id": "6VN418l4YcuM"
      },
      "execution_count": null,
      "outputs": []
    },
    {
      "cell_type": "code",
      "source": [
        "import numpy as np\n",
        "ave_input=np.average(input_data,axis=0) #벡터"
      ],
      "metadata": {
        "id": "tSEz9l6IYe2y"
      },
      "execution_count": null,
      "outputs": []
    },
    {
      "cell_type": "code",
      "source": [
        "ave_input"
      ],
      "metadata": {
        "id": "ebT3cDlkYvID"
      },
      "execution_count": null,
      "outputs": []
    },
    {
      "cell_type": "code",
      "source": [
        "std_input=np.std(input_data,axis=0) #벡터\n",
        "\n",
        "# 입력 데이터인 측정값을 표준화함. 표준화는 학습을 빠르고 안정적으로 수행하게 함.\n",
        "input_data=(input_data-ave_input)/std_input #행렬"
      ],
      "metadata": {
        "id": "jQ7voNyRYyj9"
      },
      "execution_count": null,
      "outputs": []
    },
    {
      "cell_type": "code",
      "source": [
        "input_data"
      ],
      "metadata": {
        "id": "WVu9Q3AxZNwo"
      },
      "execution_count": null,
      "outputs": []
    },
    {
      "cell_type": "code",
      "source": [
        "correct_data=np.zeros((n_data,3))"
      ],
      "metadata": {
        "id": "Fje8bppGZPqR"
      },
      "execution_count": null,
      "outputs": []
    },
    {
      "cell_type": "code",
      "source": [
        "correct_data"
      ],
      "metadata": {
        "id": "WQzAW1EIbYs7"
      },
      "execution_count": null,
      "outputs": []
    },
    {
      "cell_type": "code",
      "source": [
        "for i in range(n_data):\n",
        "  correct_data[i, correct[i]]=1.0"
      ],
      "metadata": {
        "id": "HUqCLlJbbaWK"
      },
      "execution_count": null,
      "outputs": []
    },
    {
      "cell_type": "code",
      "source": [
        "correct_data"
      ],
      "metadata": {
        "id": "-OBESShiblYX"
      },
      "execution_count": null,
      "outputs": []
    },
    {
      "cell_type": "code",
      "source": [
        "index=np.arange(n_data)\n",
        "index_train=index[index%2==0]\n",
        "index_test=index[index%2!=0]\n",
        "\n",
        "input_train=input_data[index_train, :]\n",
        "correct_train=input_data[index_train, :]\n",
        "input_test=input_data[index_test,:]\n",
        "correct_test=input_data[index_test,:]\n"
      ],
      "metadata": {
        "id": "4G3RndyMcD8N"
      },
      "execution_count": null,
      "outputs": []
    },
    {
      "cell_type": "code",
      "source": [
        "n_data"
      ],
      "metadata": {
        "id": "L9-g5iIzdmXH"
      },
      "execution_count": null,
      "outputs": []
    },
    {
      "cell_type": "code",
      "source": [
        "index"
      ],
      "metadata": {
        "id": "zd2iTzqpdsHO"
      },
      "execution_count": null,
      "outputs": []
    },
    {
      "cell_type": "code",
      "source": [
        "class BaseLayer:\n",
        "  def __init__(self, n_uppter,n):\n",
        "    #가중치(행렬)과 편향(벡터)\n",
        "    self.w=wb_width*np.random.randn(n_upper,n)\n",
        "    self.b=sb_width*np.random.randn(n)\n",
        "\n",
        "  def update(self,eta):\n",
        "    self.w-=eta*self.grad_w\n",
        "    self.b-=eta*self.dad_b\n",
        "  "
      ],
      "metadata": {
        "id": "GcaNwhJZdt57"
      },
      "execution_count": null,
      "outputs": []
    },
    {
      "cell_type": "code",
      "source": [
        "class MiddleLayer(BaseLayer):\n",
        "  def forward(self,x):\n",
        "    self.x=x\n",
        "    self.u=np.dot(x,self.w) + self.b\n",
        "    self.y=np.where(self.u<=0,0,self.u) #ReLU\n",
        "\n",
        "  def backward(self,grad_y):\n",
        "    delta=grad_y*np.where(self.u<=0,0,1) #ReLU 미분\n",
        "\n",
        "    self.grad_w=np.dot(self.x.T,delta)\n",
        "    self.grad_b=np.sum(delta,axis=0)\n",
        "\n",
        "    self.grad_x=np.dot(delta, self.w.T)"
      ],
      "metadata": {
        "id": "Q_SDJrN7fdcm"
      },
      "execution_count": null,
      "outputs": []
    },
    {
      "cell_type": "code",
      "source": [
        "class OutputLayer(BaseLayer):\n",
        "  def forward(self,x):\n",
        "    self.x=x\n",
        "    u=np.dot(x,self.w)+self.b\n",
        "    #소프트맥스 함수\n",
        "    self.y=np.exp(u)/np.sum(np.exp(u),axis=1,keepdims=True)\n",
        "\n",
        "  def backward(self,t):\n",
        "    delta=self.y-t\n",
        "\n",
        "    self.grad_w=np.dot(self.x.T,delta)\n",
        "    self.grad_b=np.sum(delta,axis=0)\n",
        "\n",
        "    self.grad_x=np.dot(delta,self.w.T)"
      ],
      "metadata": {
        "id": "1YSpz6-GgiHz"
      },
      "execution_count": null,
      "outputs": []
    },
    {
      "cell_type": "code",
      "source": [],
      "metadata": {
        "id": "MA0r7DcmiORE"
      },
      "execution_count": null,
      "outputs": []
    }
  ]
}