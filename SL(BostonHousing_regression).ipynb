{
  "nbformat": 4,
  "nbformat_minor": 0,
  "metadata": {
    "colab": {
      "name": "SL(BostonHousing regression).ipynb",
      "private_outputs": true,
      "provenance": [],
      "authorship_tag": "ABX9TyNQIYlx2I+qwfsRs1/x9JSY",
      "include_colab_link": true
    },
    "kernelspec": {
      "name": "python3",
      "display_name": "Python 3"
    },
    "language_info": {
      "name": "python"
    }
  },
  "cells": [
    {
      "cell_type": "markdown",
      "metadata": {
        "id": "view-in-github",
        "colab_type": "text"
      },
      "source": [
        "<a href=\"https://colab.research.google.com/github/hyoh79/ML/blob/main/SL(BostonHousing_regression).ipynb\" target=\"_parent\"><img src=\"https://colab.research.google.com/assets/colab-badge.svg\" alt=\"Open In Colab\"/></a>"
      ]
    },
    {
      "cell_type": "code",
      "metadata": {
        "id": "flCIfFNGMRte"
      },
      "source": [
        "from sklearn.datasets import load_boston\n",
        "boston=load_boston()\n",
        "print(\"데이터의 형태:\",boston.data.shape)"
      ],
      "execution_count": null,
      "outputs": []
    },
    {
      "cell_type": "code",
      "metadata": {
        "id": "MP0l0FwEMlVD"
      },
      "source": [
        "!pip install mglearn\n",
        "import mglearn\n",
        "X,y=mglearn.datasets.load_extended_boston()\n",
        "print(\"X.shape:\",X.shape)"
      ],
      "execution_count": null,
      "outputs": []
    },
    {
      "cell_type": "code",
      "metadata": {
        "id": "LOlcFaHWNAZW"
      },
      "source": [
        ""
      ],
      "execution_count": null,
      "outputs": []
    }
  ]
}